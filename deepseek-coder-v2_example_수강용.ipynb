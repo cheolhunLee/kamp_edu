{
 "cells": [
  {
   "cell_type": "markdown",
   "id": "9b9ea02d",
   "metadata": {},
   "source": [
    "# 예제: Deepseek Coder 활용"
   ]
  },
  {
   "cell_type": "markdown",
   "id": "f4ec1638",
   "metadata": {},
   "source": [
    "### 모델 다운"
   ]
  },
  {
   "cell_type": "code",
   "execution_count": null,
   "id": "d1f69683",
   "metadata": {},
   "outputs": [],
   "source": [
    "!ollama pull deepseek-coder-v2:16b"
   ]
  },
  {
   "cell_type": "markdown",
   "id": "6bcdffc2",
   "metadata": {},
   "source": [
    "# Deepseek-coder-v2로 게임 Python 코드 생성&디버그"
   ]
  },
  {
   "cell_type": "markdown",
   "id": "66bbf3d5",
   "metadata": {},
   "source": [
    "### 라이브러리 호출"
   ]
  },
  {
   "cell_type": "code",
   "execution_count": null,
   "id": "5ead28b2",
   "metadata": {},
   "outputs": [],
   "source": [
    "import ollama\n",
    "import requests\n",
    "import json\n",
    "from IPython.display import Markdown, display\n",
    "!pip install pygame"
   ]
  },
  {
   "cell_type": "markdown",
   "id": "6f73ba2f",
   "metadata": {},
   "source": [
    "### 실행 함수"
   ]
  },
  {
   "cell_type": "markdown",
   "id": "407856ae",
   "metadata": {},
   "source": [
    "* ollama.chat() 은 ollama 라이브러리의 대화형 API 함수: LLM 모델에 대화 형식(message list) 을 입력하면, 모델이 답변을 생성해서 반환함\n",
    "* 단순 텍스트 완성(generate)이 아니라 대화 맥락(context) 을 주고받기 위해 chat 함수를 사용\n",
    "* Local LLM 서버에 채팅 요청을 보냄, 출력은 딕셔너리 형태의 응답(response) 객체\n",
    "* 대화 히스토리를 messages 리스트로 전달\n",
    "* 발화자 역할(role)을 사용자로 지정\n",
    "* 모델이 돌려준 응답(response) 중에서, prompt를 포함한 메시지 본문('content')만 뽑아서 리턴함\n"
   ]
  },
  {
   "cell_type": "code",
   "execution_count": null,
   "id": "0eb6aa46",
   "metadata": {},
   "outputs": [],
   "source": [
    "def chat_with_deepseek_coder(prompt, model=\"deepseek-coder-v2:16b\"):\n",
    "    \"\"\"Chat with DeepSeek-Coder model via Ollama\"\"\"\n",
    "    try:\n",
    "        response = ollama.chat(\n",
    "            model=model,\n",
    "            messages=[\n",
    "                {\n",
    "                    'role': 'user',\n",
    "                    'content': prompt\n",
    "                }\n",
    "            ]\n",
    "        )\n",
    "        return response['message']['content']\n",
    "    except Exception as e:\n",
    "        return f\"Error: {e}. Make sure to run 'ollama pull {model}' first.\""
   ]
  },
  {
   "cell_type": "markdown",
   "id": "e890a6ec",
   "metadata": {},
   "source": [
    "### 코드 생성 프롬프트 정의"
   ]
  },
  {
   "cell_type": "markdown",
   "id": "4cd37097",
   "metadata": {},
   "source": [
    "* ‘블록 부수기’ 게임을 구현하는 소스 코드를 생성하기 위한 프롬프트\n",
    "* Python 게임 개발자라는 role 부여\n",
    "* 게임에 포함되어야 하는 기능과 코드를 작성하는 방식을 명시적으로 지시"
   ]
  },
  {
   "cell_type": "code",
   "execution_count": null,
   "id": "841f46a8",
   "metadata": {},
   "outputs": [],
   "source": [
    "generator_prompt = \"\"\" \n",
    "You are an expert Python game developer specializing in recreating classic arcade games. \n",
    "Write complete Python code for a \"Brick Breaker\" game using the pygame library. \n",
    "The game should include: \n",
    "   1. A controllable paddle at the bottom of the screen, moved left/right with arrow keys. \n",
    "   2. A bouncing ball that can destroy bricks arranged at the top of the screen. \n",
    "   3. Bricks arranged in multiple rows with different colors. \n",
    "   4. Score tracking and display in the corner. \n",
    "   5. Game over when the ball falls below the paddle. \n",
    "   6. Victory message when all bricks are destroyed. \n",
    "   7. Smooth paddle and ball movement. \n",
    "   8. Comments explaining each major part of the code. \n",
    "Make sure the code: \n",
    "   - Runs without errors. \n",
    "   - Uses a game loop with event handling, collision detection, and screen updates. \n",
    "   - Has reasonable default settings (window size, paddle speed, ball speed). \n",
    "   - Is well-structured and easy to modify. \n",
    "\n",
    "Output only the complete Python code inside one code block. \n",
    "\"\"\""
   ]
  },
  {
   "cell_type": "markdown",
   "id": "c51c6161",
   "metadata": {},
   "source": [
    "### 코드 디버그 및 최적화 프롬프트 정의"
   ]
  },
  {
   "cell_type": "markdown",
   "id": "3a734bac",
   "metadata": {},
   "source": [
    "* Code를 입력으로 받아서 Debug 및 Optimize를 하기 위한 Prompt를 정의\n",
    "* 출력문에 포함되어야 하는 요소들을 명시적으로 지시\n"
   ]
  },
  {
   "cell_type": "code",
   "execution_count": null,
   "id": "c924dbee",
   "metadata": {},
   "outputs": [],
   "source": [
    "debug_prompt = \"\"\"\n",
    "You are a senior Python developer and performance optimizer.\n",
    "Debug and optimize the following Python code:\n",
    "\n",
    "```python\n",
    "{code}\n",
    "Please provide:\n",
    "\n",
    "Corrected & optimized full code (single code block, ready to run)\n",
    "\n",
    "Explanation of what was wrong (bullet points)\n",
    "\n",
    "Optimization rationale (algorithmic + implementation-level)\n",
    "\n",
    "Complexity analysis (before/after: Big-O for time and memory)\n",
    "\n",
    "Simple benchmark example to compare performance\n",
    "\n",
    "Key edge-case tests\n",
    "\"\"\""
   ]
  },
  {
   "cell_type": "markdown",
   "id": "1ade8687",
   "metadata": {},
   "source": [
    "### 코드 생성"
   ]
  },
  {
   "cell_type": "markdown",
   "id": "d02b3ef5",
   "metadata": {},
   "source": [
    "* 생성된 코드를 빈셀에 복사&붙여넣기하여 실행"
   ]
  },
  {
   "cell_type": "code",
   "execution_count": null,
   "id": "caba7123",
   "metadata": {},
   "outputs": [],
   "source": [
    "response = chat_with_deepseek_coder(generator_prompt)\n",
    "display(Markdown(response))"
   ]
  },
  {
   "cell_type": "code",
   "execution_count": null,
   "id": "e46eb6b7",
   "metadata": {},
   "outputs": [],
   "source": [
    "# 여기에 복사 및 붙여넣기\n",
    "\n"
   ]
  },
  {
   "cell_type": "markdown",
   "id": "fee0b725",
   "metadata": {},
   "source": [
    "### 코드 디버그 및 최적화"
   ]
  },
  {
   "cell_type": "code",
   "execution_count": null,
   "id": "e4659eb2",
   "metadata": {},
   "outputs": [],
   "source": [
    "new_code = chat_with_deepseek_coder(debug_prompt.format(code=response))\n",
    "display(Markdown(new_code))"
   ]
  },
  {
   "cell_type": "markdown",
   "id": "6a34fbaa",
   "metadata": {},
   "source": [
    "* 생성된 코드를 빈셀에 복사&붙여넣기 해서 실행"
   ]
  },
  {
   "cell_type": "code",
   "execution_count": null,
   "id": "edc6c33a",
   "metadata": {},
   "outputs": [],
   "source": []
  },
  {
   "cell_type": "markdown",
   "id": "3162d3c1",
   "metadata": {},
   "source": [
    "# Deepseek-coder-v2로 웹 사이트 HTML 코드 생성&디버그"
   ]
  },
  {
   "cell_type": "markdown",
   "id": "34f0180f",
   "metadata": {},
   "source": [
    "### 라이브러리 호출"
   ]
  },
  {
   "cell_type": "code",
   "execution_count": null,
   "id": "459e92b8",
   "metadata": {},
   "outputs": [],
   "source": [
    "import ollama\n",
    "import requests\n",
    "import json\n",
    "import re\n",
    "from IPython.display import Markdown, display"
   ]
  },
  {
   "cell_type": "markdown",
   "id": "403b3342",
   "metadata": {},
   "source": [
    "### 실행 함수"
   ]
  },
  {
   "cell_type": "code",
   "execution_count": null,
   "id": "5fbda02f",
   "metadata": {},
   "outputs": [],
   "source": [
    "def chat_with_deepseek_coder(prompt, model=\"deepseek-coder-v2:16b\"):\n",
    "    \"\"\"Chat with DeepSeek-Coder model via Ollama\"\"\"\n",
    "    try:\n",
    "        response = ollama.chat(\n",
    "            model=model,\n",
    "            messages=[\n",
    "                {\n",
    "                    'role': 'user',\n",
    "                    'content': prompt\n",
    "                }\n",
    "            ]\n",
    "        )\n",
    "        return response['message']['content']\n",
    "    except Exception as e:\n",
    "        return f\"Error: {e}. Make sure to run 'ollama pull {model}' first.\""
   ]
  },
  {
   "cell_type": "markdown",
   "id": "9022c099",
   "metadata": {},
   "source": [
    "### 코드 생성 프롬프트 정의"
   ]
  },
  {
   "cell_type": "markdown",
   "id": "810f5bfd",
   "metadata": {},
   "source": [
    "* 웹페이지에 포함되어야 하는 요소들을 명시적으로 지시"
   ]
  },
  {
   "cell_type": "code",
   "execution_count": null,
   "id": "4f10bfe0",
   "metadata": {},
   "outputs": [],
   "source": [
    "# Code generator\n",
    "generator_prompt = \"\"\"\n",
    "You are a frontend engineer who builds modern, responsive websites.\n",
    "Write a COMPLETE single-file website (one HTML file) for a product landing page.\n",
    "\n",
    "The site should include:\n",
    "\n",
    "1) Header & Navigation\n",
    "   - Logo (text or simple inline SVG)\n",
    "   - Navigation links with smooth scroll to sections\n",
    "   - Mobile-friendly hamburger menu (toggle open/close with JS)\n",
    "   - Sticky header on scroll\n",
    "\n",
    "2) Hero Section\n",
    "   - Clear headline, subheadline, and two CTAs (primary/secondary)\n",
    "   - Decorative illustration (inline SVG or placeholder)\n",
    "   - Background gradient or subtle pattern\n",
    "\n",
    "3) Features Section\n",
    "   - Grid layout (≥ 6 feature cards) with icons (inline SVG ok)\n",
    "   - Short titles + descriptions\n",
    "\n",
    "4) Testimonials\n",
    "   - At least 3 testimonials with name, role, and quote\n",
    "   - Simple carousel/slider OR horizontally scrollable cards (no external libs)\n",
    "\n",
    "5) Pricing\n",
    "   - 3 tiers (Basic / Pro / Enterprise)\n",
    "   - One highlighted “Most Popular” plan\n",
    "   - Feature list bullets and a CTA button per tier\n",
    "\n",
    "6) FAQ\n",
    "   - Accordion UI (expand/collapse)\n",
    "   - At least 6 Q&A items\n",
    "\n",
    "7) Contact\n",
    "   - Contact form with name, email, message\n",
    "   - Client-side validation (required fields, basic email pattern)\n",
    "   - Success/error message handling (no backend)\n",
    "\n",
    "8) Footer\n",
    "   - Copyright, nav links, and social icons (inline SVG)\n",
    "   - “Back to top” button\n",
    "\n",
    "Enhancements & Quality Bar:\n",
    "- Responsive: looks great on mobile, tablet, desktop (use CSS Grid/Flex)\n",
    "- Accessibility: semantic HTML5, aria-* where helpful, focus states, alt text\n",
    "- Theming: light/dark theme toggle (CSS variables + localStorage)\n",
    "- Motion: tasteful transitions/animations (reduced motion respected via prefers-reduced-motion)\n",
    "- Performance: no external JS/CSS frameworks or CDNs; inline everything\n",
    "- Code comments: explain each major part (HTML/CSS/JS)\n",
    "- Clean structure: logical sections, descriptive class names, easy to modify\n",
    "\n",
    "Technical Requirements:\n",
    "- Pure HTML + CSS + vanilla JS in ONE file\n",
    "- Include a minimal CSS reset\n",
    "- Use CSS variables for colors, spacing, and typography\n",
    "- Implement smooth scrolling and sticky header behavior\n",
    "- Implement mobile nav toggle, FAQ accordion, pricing highlight, form validation, theme toggle, back-to-top\n",
    "- Provide placeholder images/illustrations via inline SVG or data URLs\n",
    "- All text can be in Korean; write natural marketing copy\n",
    "\n",
    "Output format:\n",
    "- Output ONLY the complete HTML (single file) inside one code block.\n",
    "- Do not include any explanation outside the code block.\n",
    "\n",
    "\"\"\"\n"
   ]
  },
  {
   "cell_type": "markdown",
   "id": "6b56c42a",
   "metadata": {},
   "source": [
    "### 코드 디버그 및 최적화 프롬프트 정의"
   ]
  },
  {
   "cell_type": "code",
   "execution_count": null,
   "id": "08552d3e",
   "metadata": {},
   "outputs": [],
   "source": [
    "# Debug prompt\n",
    "debug_prompt = \"\"\"\n",
    "You are an expert frontend engineer and code reviewer.\n",
    "Debug and optimize the following SINGLE-FILE HTML website code:\n",
    "\n",
    "{code}\n",
    "\n",
    "Tasks:\n",
    "1. Check for any HTML, CSS, or JavaScript syntax errors and FIX them.\n",
    "2. Ensure all required sections (Header, Hero, Features, Testimonials, Pricing, FAQ, Contact, Footer) are present and functional.\n",
    "3. Verify the required behaviors work correctly:\n",
    "   - Sticky header and smooth scrolling\n",
    "   - Mobile nav toggle (hamburger)\n",
    "   - FAQ accordion expand/collapse (ARIA attributes)\n",
    "   - Pricing highlight\n",
    "   - Contact form validation with success/error messages\n",
    "   - Back-to-top button\n",
    "   - Theme toggle (light/dark) with localStorage persistence\n",
    "4. Test responsiveness on mobile, tablet, and desktop. Fix layout or overflow issues.\n",
    "5. Confirm accessibility: semantic HTML, aria-* attributes, keyboard navigation, focus states.\n",
    "6. Optimize code:\n",
    "   - Remove unused styles/JS\n",
    "   - Use CSS variables consistently\n",
    "   - Simplify structure where possible\n",
    "7. Performance check:\n",
    "   - Inline assets only (no external requests)\n",
    "   - Respect prefers-reduced-motion for animations\n",
    "8. Return the corrected & optimized COMPLETE HTML in one code block.\n",
    "9. After the code, write a short bullet-point summary of:\n",
    "   - What was wrong\n",
    "   - What was fixed\n",
    "   - Any optimizations made\n",
    "\"\"\""
   ]
  },
  {
   "cell_type": "markdown",
   "id": "3b72c670",
   "metadata": {},
   "source": [
    "### 코드 생성 및 디버그"
   ]
  },
  {
   "cell_type": "code",
   "execution_count": null,
   "id": "5d6c2c47",
   "metadata": {
    "scrolled": true
   },
   "outputs": [],
   "source": [
    "response = chat_with_deepseek_coder(generator_prompt)\n",
    "new_code = chat_with_deepseek_coder(debug_prompt.format(code=response))\n",
    "display(Markdown(new_code))"
   ]
  },
  {
   "cell_type": "markdown",
   "id": "a61a9626",
   "metadata": {},
   "source": [
    "* LLM 출력문에서 HTML 코드 부분을 슬라이싱해서 myWebSite.html로 저장하는 코드"
   ]
  },
  {
   "cell_type": "code",
   "execution_count": null,
   "id": "53152905",
   "metadata": {},
   "outputs": [],
   "source": [
    "pattern = r\"```html(.*?)```\"   # ```html 과 ``` 사이를 캡처\n",
    "match = re.search(pattern, new_code, re.S)\n",
    "\n",
    "if match:\n",
    "    html_code = match.group(1).strip()\n",
    "    print(html_code)\n",
    "    \n",
    "    # 파일로 저장\n",
    "    with open(\"myWebSite.html\", \"w\", encoding=\"utf-8\") as f:\n",
    "        f.write(html_code)\n",
    "\n",
    "    print(\"✅ myWebSite.html 저장 완료\")"
   ]
  },
  {
   "cell_type": "markdown",
   "id": "efb011fc",
   "metadata": {},
   "source": [
    "# 실습 문제: WebSite 예제에서 코드 생성 프롬프트의 Header 부분을 수정하여 Logo Text와 배경색을 변경하기 "
   ]
  },
  {
   "cell_type": "code",
   "execution_count": null,
   "id": "7de857e4",
   "metadata": {},
   "outputs": [],
   "source": [
    "import ollama\n",
    "import requests\n",
    "import json\n",
    "import re\n",
    "from IPython.display import Markdown, display"
   ]
  },
  {
   "cell_type": "code",
   "execution_count": null,
   "id": "72a4be37",
   "metadata": {},
   "outputs": [],
   "source": [
    "def chat_with_deepseek_coder(prompt, model=\"deepseek-coder-v2:16b\"):\n",
    "    \"\"\"Chat with DeepSeek-Coder model via Ollama\"\"\"\n",
    "    try:\n",
    "        response = ollama.chat(\n",
    "            model=model,\n",
    "            messages=[\n",
    "                {\n",
    "                    'role': 'user',\n",
    "                    'content': prompt\n",
    "                }\n",
    "            ]\n",
    "        )\n",
    "        return response['message']['content']\n",
    "    except Exception as e:\n",
    "        return f\"Error: {e}. Make sure to run 'ollama pull {model}' first.\""
   ]
  },
  {
   "cell_type": "code",
   "execution_count": null,
   "id": "cb8b0766",
   "metadata": {},
   "outputs": [],
   "source": [
    "# Code generator\n",
    "generator_prompt = \"\"\"\n",
    "You are a frontend engineer who builds modern, responsive websites.\n",
    "Write a COMPLETE single-file website (one HTML file) for a product landing page.\n",
    "\n",
    "The site should include:\n",
    "\n",
    "1) Header & Navigation\n",
    "   - Logo set to ~.\n",
    "   - Navigation links with smooth scroll to sections\n",
    "   - Mobile-friendly hamburger menu (toggle open/close with JS)\n",
    "   - Sticky header on scroll\n",
    "   - Background color set ~. \n",
    "\n",
    "2) Hero Section\n",
    "   - Clear headline, subheadline, and two CTAs (primary/secondary)\n",
    "   - Decorative illustration (inline SVG or placeholder)\n",
    "   - Background gradient or subtle pattern\n",
    "\n",
    "3) Features Section\n",
    "   - Grid layout (≥ 6 feature cards) with icons (inline SVG ok)\n",
    "   - Short titles + descriptions\n",
    "\n",
    "4) Testimonials\n",
    "   - At least 3 testimonials with name, role, and quote\n",
    "   - Simple carousel/slider OR horizontally scrollable cards (no external libs)\n",
    "\n",
    "5) Pricing\n",
    "   - 3 tiers (Basic / Pro / Enterprise)\n",
    "   - One highlighted “Most Popular” plan\n",
    "   - Feature list bullets and a CTA button per tier\n",
    "\n",
    "6) FAQ\n",
    "   - Accordion UI (expand/collapse)\n",
    "   - At least 6 Q&A items\n",
    "\n",
    "7) Contact\n",
    "   - Contact form with name, email, message\n",
    "   - Client-side validation (required fields, basic email pattern)\n",
    "   - Success/error message handling (no backend)\n",
    "\n",
    "8) Footer\n",
    "   - Copyright, nav links, and social icons (inline SVG)\n",
    "   - “Back to top” button\n",
    "\n",
    "Enhancements & Quality Bar:\n",
    "- Responsive: looks great on mobile, tablet, desktop (use CSS Grid/Flex)\n",
    "- Accessibility: semantic HTML5, aria-* where helpful, focus states, alt text\n",
    "- Theming: light/dark theme toggle (CSS variables + localStorage)\n",
    "- Motion: tasteful transitions/animations (reduced motion respected via prefers-reduced-motion)\n",
    "- Performance: no external JS/CSS frameworks or CDNs; inline everything\n",
    "- Code comments: explain each major part (HTML/CSS/JS)\n",
    "- Clean structure: logical sections, descriptive class names, easy to modify\n",
    "\n",
    "Technical Requirements:\n",
    "- Pure HTML + CSS + vanilla JS in ONE file\n",
    "- Include a minimal CSS reset\n",
    "- Use CSS variables for colors, spacing, and typography\n",
    "- Implement smooth scrolling and sticky header behavior\n",
    "- Implement mobile nav toggle, FAQ accordion, pricing highlight, form validation, theme toggle, back-to-top\n",
    "- Provide placeholder images/illustrations via inline SVG or data URLs\n",
    "- All text can be in Korean; write natural marketing copy\n",
    "\n",
    "Output format:\n",
    "- Output ONLY the complete HTML (single file) inside one code block.\n",
    "- Do not include any explanation outside the code block.\n",
    "\n",
    "\"\"\"\n"
   ]
  },
  {
   "cell_type": "code",
   "execution_count": null,
   "id": "a6594234",
   "metadata": {},
   "outputs": [],
   "source": [
    "new_code = chat_with_deepseek_coder(generator_prompt)\n",
    "pattern = r\"```html(.*?)```\"   # ```html 과 ``` 사이를 캡처\n",
    "match = re.search(pattern, new_code, re.S)\n",
    "\n",
    "if match:\n",
    "    html_code = match.group(1).strip()\n",
    "    print(html_code)\n",
    "    \n",
    "    # 파일로 저장\n",
    "    with open(\"myWebSite.html\", \"w\", encoding=\"utf-8\") as f:\n",
    "        f.write(html_code)\n",
    "\n",
    "    print(\"✅ myWebSite.html 저장 완료\")"
   ]
  }
 ],
 "metadata": {
  "kernelspec": {
   "display_name": "llm_agent",
   "language": "python",
   "name": "python3"
  },
  "language_info": {
   "codemirror_mode": {
    "name": "ipython",
    "version": 3
   },
   "file_extension": ".py",
   "mimetype": "text/x-python",
   "name": "python",
   "nbconvert_exporter": "python",
   "pygments_lexer": "ipython3",
   "version": "3.10.18"
  }
 },
 "nbformat": 4,
 "nbformat_minor": 5
}
