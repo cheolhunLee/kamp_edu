{
 "cells": [
  {
   "cell_type": "markdown",
   "id": "16f10870",
   "metadata": {},
   "source": [
    "# RAG 시스템 구축 실습\n",
    "\n",
    "## 학습 목표\n",
    "- 웹 문서를 활용한 RAG(Retrieval-Augmented Generation) 시스템 구축\n",
    "- 문서 로딩부터 질의응답까지 전체 파이프라인 이해\n",
    "- LangChain과 Ollama를 활용한 실제 구현 실습\n",
    "\n"
   ]
  },
  {
   "cell_type": "code",
   "execution_count": 1,
   "id": "5844f99a",
   "metadata": {},
   "outputs": [
    {
     "name": "stderr",
     "output_type": "stream",
     "text": [
      "USER_AGENT environment variable not set, consider setting it to identify your requests.\n"
     ]
    }
   ],
   "source": [
    "import bs4\n",
    "from langchain_text_splitters import RecursiveCharacterTextSplitter\n",
    "from langchain_community.document_loaders import WebBaseLoader\n",
    "from langchain_community.vectorstores import FAISS\n",
    "from langchain_core.output_parsers import StrOutputParser\n",
    "from langchain_core.prompts import PromptTemplate\n",
    "from langchain_ollama import OllamaEmbeddings, OllamaLLM"
   ]
  },
  {
   "cell_type": "code",
   "execution_count": null,
   "id": "3485028d",
   "metadata": {},
   "outputs": [],
   "source": [
    "from dotenv import load_dotenv\n",
    "\n",
    "load_dotenv() # .env. 파일 로드"
   ]
  },
  {
   "cell_type": "markdown",
   "id": "a2f24204",
   "metadata": {},
   "source": [
    "## 2. 문서 로딩 (Document Loading)\n",
    "\n",
    "**주요 포인트:**\n",
    "- `web_paths`: 로딩할 웹 페이지 URL\n",
    "- `bs_kwargs`: BeautifulSoup 파싱 옵션\n",
    "- `SoupStrainer`: 특정 HTML 요소만 추출 (불필요한 내용 제거)"
   ]
  },
  {
   "cell_type": "code",
   "execution_count": 3,
   "id": "66bbeda5",
   "metadata": {},
   "outputs": [
    {
     "name": "stdout",
     "output_type": "stream",
     "text": [
      "문서의 수: 1\n"
     ]
    }
   ],
   "source": [
    "# 1. 문서 로딩 (Document Loading)\n",
    "loader = WebBaseLoader(\n",
    "    web_paths=(\"https://www.bbc.com/korean/articles/cl4yml4l6j1o\",),\n",
    "    bs_kwargs=dict(\n",
    "        parse_only=bs4.SoupStrainer(\n",
    "            \"div\",\n",
    "            attrs={\"class\": [\"bbc-1cvxiy9\", \"bbc-fa0wmp\"]},\n",
    "        )\n",
    "    ),\n",
    ")\n",
    "docs = loader.load()\n",
    "print(f\"문서의 수: {len(docs)}\")"
   ]
  },
  {
   "cell_type": "markdown",
   "id": "f9e42b54",
   "metadata": {},
   "source": [
    "## 3. 문서 분할 (Document Splitting)\n",
    "\n",
    "- `chunk_size=500`: 각 청크의 최대 크기 (문자 수)\n",
    "- `chunk_overlap=50`: 청크 간 중복되는 문자 수 (문맥 보존)\n",
    "- 분할 이유: LLM의 토큰 제한, 검색 정확도 향상"
   ]
  },
  {
   "cell_type": "code",
   "execution_count": 4,
   "id": "52d81bde",
   "metadata": {},
   "outputs": [
    {
     "name": "stdout",
     "output_type": "stream",
     "text": [
      "split size: 9\n"
     ]
    }
   ],
   "source": [
    "# 2. 문서 분할 (Splitting)\n",
    "text_splitter = RecursiveCharacterTextSplitter(chunk_size=500, chunk_overlap=50)\n",
    "splits = text_splitter.split_documents(docs)\n",
    "print(f\"split size: {len(splits)}\")"
   ]
  },
  {
   "cell_type": "markdown",
   "id": "1f0450c6",
   "metadata": {},
   "source": [
    "## 4. 임베딩 및 벡터 저장소 구축\n",
    "\n",
    "- `OllamaEmbeddings`: 텍스트를 벡터로 변환\n",
    "- `FAISS`: Facebook이 개발한 효율적인 벡터 검색 라이브러리\n",
    "- `retriever`: 질문과 유사한 문서 조각을 찾는 검색기"
   ]
  },
  {
   "cell_type": "code",
   "execution_count": 5,
   "id": "ed645b58",
   "metadata": {},
   "outputs": [],
   "source": [
    "# 3. 임베딩 생성 (Embedding)\n",
    "embeddings = OllamaEmbeddings(model=\"daynice/kure-v1\")\n",
    "\n",
    "# 4. 벡터 저장소 구축 (Vector Database)\n",
    "vector_store = FAISS.from_documents(documents=splits, embedding=embeddings)\n",
    "\n",
    "# 4-1. 쿼리 저장소 검색을 위한 retriever 생성\n",
    "retriever = vector_store.as_retriever()"
   ]
  },
  {
   "cell_type": "markdown",
   "id": "3b5350af",
   "metadata": {},
   "source": [
    "## 5. 프롬프트 템플릿 설정\n",
    "\n",
    "**프롬프트 설계 원칙:**\n",
    "- 명확한 역할 정의\n",
    "- 문맥 기반 답변 지시\n",
    "- 모르는 것은 모른다고 답하도록 유도\n",
    "- 추측이나 환각 방지"
   ]
  },
  {
   "cell_type": "code",
   "execution_count": 6,
   "id": "f3474b16",
   "metadata": {},
   "outputs": [],
   "source": [
    "# PROMPT Template 생성\n",
    "prompt = PromptTemplate.from_template(\n",
    "\"\"\"당신은 질문-답변(Question-Answering)을 수행하는 AI 어시스턴트입니다. 당신의 임무는 주어진 문맥(context) 에서 주어진 질문(question) 에 답하는 것입니다.\n",
    "검색된 다음 문맥(context) 을 사용하여 질문(question) 에 답하세요. 만약, 주어진 문맥(context) 에서 답을 찾을 수 없다면, 답을 모른다면 `주어진 정보에서 질문에 대한 정보를 찾을 수 없습니다` 라고 답하세요.\n",
    "질문과 관련성이 높은 내용만 답변하고 추측된 내용을 생성하지 마세요. 기술적인 용어나 이름은 번역하지 않고 그대로 사용해 주세요.\n",
    "\n",
    "#Question: \n",
    "{question} \n",
    "\n",
    "#Context: \n",
    "{context} \n",
    "\n",
    "#Answer:\"\"\"\n",
    ")"
   ]
  },
  {
   "cell_type": "markdown",
   "id": "6c3a4020",
   "metadata": {},
   "source": [
    "## 6. LLM 초기화 및 체인 생성\n",
    "\n",
    "- `temperature=0`: 일관된 답변을 위해 창의성 최소화\n",
    "- `chain`: 프롬프트 → LLM → 출력 파싱의 파이프라인\n",
    "- `|` 연산자: LangChain의 체인 연결 문법"
   ]
  },
  {
   "cell_type": "code",
   "execution_count": 7,
   "id": "82aaab8c",
   "metadata": {},
   "outputs": [],
   "source": [
    "# Ollama 초기화\n",
    "llm = OllamaLLM(\n",
    "    model=\"exaone3.5:7.8b\",\n",
    "    temperature=0\n",
    ")\n",
    "\n",
    "# 체인을 생성합니다.\n",
    "chain = prompt | llm | StrOutputParser()"
   ]
  },
  {
   "cell_type": "markdown",
   "id": "b946a07d",
   "metadata": {},
   "source": [
    "## 7. 질의응답 실행\n",
    "\n",
    "**실행 과정:**\n",
    "1. **문서 검색**: 질문과 관련된 문서 조각들을 벡터 DB에서 검색\n",
    "2. **문맥 결합**: 검색된 여러 문서를 하나의 문맥으로 결합\n",
    "3. **프롬프트 생성**: 질문과 문맥을 템플릿에 삽입\n",
    "4. **스트리밍 답변**: 실시간으로 답변을 생성하고 출력"
   ]
  },
  {
   "cell_type": "code",
   "execution_count": 11,
   "id": "a44f5c1d",
   "metadata": {},
   "outputs": [
    {
     "name": "stdout",
     "output_type": "stream",
     "text": [
      "retrieved size: 4\n",
      "1998\n",
      "극한 호우의 주요 원인으로는 다음과 같은 요소들이 언급되었습니다:\n",
      "\n",
      "1. **저기압 시스템**: 서해에서 유입된 저기압이 장마전선과 결합하여 많은 강수량을 발생시켰습니다. 특히, 중국과 몽골 지역에서 발생한 저기압이 강하게 발달하여 북태평양 고기압과 충돌하면서 폭우를 초래했습니다.\n",
      "\n",
      "2. **기후 변화**: 민 교수는 현재의 강우 패턴 변화가 단순히 온도 상승으로 인한 수증기 증가만으로 설명하기 어려울 정도로 심각하다고 지적했습니다. 특히, 최근 몇 년간 바다의 온도 상승이 강우 패턴에 영향을 미치고 있다는 분석이 제기되었습니다.\n",
      "\n",
      "3. **강수 패턴 변화**: 장 교수는 짧은 시간 동안 집중적으로 비가 내리는 경향이 증가하고 있다고 설명했습니다. 이는 과거와 비교해 짧은 기간에 많은 양의 비가 내리는 패턴이 더 흔해졌음을 의미합니다.\n",
      "\n",
      "현재 학계에서는 이러한 현상의 정확한 원인을 완전히 규명하지 못하고 있으며, 기후 변화와 대기 상태의 복잡한 상호작용을 연구 중입니다.\n",
      "retrieved size: 4\n",
      "1906\n",
      "주어진 문맥에서 서울 신월동에 건설된 대심도 빗물터널의 수에 대한 구체적인 착공 여부나 추가 건설 계획에 대한 최신 업데이트는 제공되지 않았습니다. 다만, 문맥은 서울시가 상습 침수 지역에 대심도 빗물터널 6개를 추가로 건설하겠다고 발표했으나, 고금리와 건설경기 불황 등으로 인해 아직 한 곳도 착공하지 못한 상황임을 언급하고 있습니다. 따라서, 현재까지 신월동에 건설된 빗물터널의 수는 **한 곳**이지만, 추가 건설 계획은 진행 중이지만 아직 완료되지 않았음을 알 수 있습니다.\n",
      "\n",
      "**답변 요약:**\n",
      "- 현재 서울 신월동에 건설된 대심도 빗물터널은 **한 곳**입니다.\n",
      "- 서울시는 추가로 6개를 건설할 계획이지만, 고금리와 건설 경기 불황으로 인해 아직 착공되지 않았습니다.\n"
     ]
    }
   ],
   "source": [
    "while True:\n",
    "    # 7-1. 사용자의 입력을 기다림\n",
    "    question = input(\"\\n\\n당신: \")\n",
    "    if question == \"끝\" or question == \"exit\":\n",
    "        break\n",
    "    # 7-2. 쿼리 처리 (Query-Retriever) : 벡터 DB 에서 참고할 문서 검색\n",
    "    retrieved_docs = retriever.invoke(question)\n",
    "    print(f\"retrieved size: {len(retrieved_docs)}\")\n",
    "    combined_docs = \"\\n\\n\".join(doc.page_content for doc in retrieved_docs)\n",
    "\n",
    "    # 7-3. 검색된 문서를 첨부해서 PROMPT 생성\n",
    "    formatted_prompt = {\"question\": question, \"context\": combined_docs}\n",
    "    print(len(combined_docs))\n",
    "#     # 7-4 체인을 실행하고 결과를 stream 형태로 출력\n",
    "#     result = \"\"\n",
    "#     for chunk in chain.stream(formatted_prompt):\n",
    "#         print(chunk, end=\"\", flush=True)\n",
    "#         result += chunk\n",
    "\n",
    "    # 7-4. 체인을 실행\n",
    "    result = chain.invoke(formatted_prompt)\n",
    "    print(result)"
   ]
  }
 ],
 "metadata": {
  "kernelspec": {
   "display_name": "LG_LLM",
   "language": "python",
   "name": "python3"
  },
  "language_info": {
   "codemirror_mode": {
    "name": "ipython",
    "version": 3
   },
   "file_extension": ".py",
   "mimetype": "text/x-python",
   "name": "python",
   "nbconvert_exporter": "python",
   "pygments_lexer": "ipython3",
   "version": "3.10.18"
  }
 },
 "nbformat": 4,
 "nbformat_minor": 5
}
