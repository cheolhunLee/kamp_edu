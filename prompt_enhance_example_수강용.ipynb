{
 "cells": [
  {
   "cell_type": "markdown",
   "id": "1d6f92c5",
   "metadata": {},
   "source": [
    "# LangSmith로 프롬프트 개선"
   ]
  },
  {
   "cell_type": "markdown",
   "id": "e215bcf1",
   "metadata": {},
   "source": [
    "### 1. 뉴스 요약하기"
   ]
  },
  {
   "cell_type": "markdown",
   "id": "a0e41f36",
   "metadata": {},
   "source": [
    "* 라이브러리 호출 및 프로젝트 이름 초기화"
   ]
  },
  {
   "cell_type": "code",
   "execution_count": 1,
   "id": "bfc4bc15",
   "metadata": {},
   "outputs": [
    {
     "name": "stderr",
     "output_type": "stream",
     "text": [
      "USER_AGENT environment variable not set, consider setting it to identify your requests.\n"
     ]
    }
   ],
   "source": [
    "import os\n",
    "import bs4\n",
    "import uuid\n",
    "from dotenv import load_dotenv\n",
    "from langchain_community.document_loaders import WebBaseLoader\n",
    "from langchain_community.llms import Ollama\n",
    "from langchain_core.prompts import PromptTemplate\n",
    "from langchain_core.output_parsers import StrOutputParser\n",
    "from langsmith import Client\n",
    "from langchain_community.llms import Ollama\n",
    "from langchain_ollama import ChatOllama\n",
    "\n",
    "load_dotenv()\n",
    "# 1-1. LangSmith project, dataset, annotation queue 이름으로 사용할 문자열\n",
    "project_name = \"prompt_enhance_example\""
   ]
  },
  {
   "cell_type": "markdown",
   "id": "f23f3291",
   "metadata": {},
   "source": [
    "* 크롤링 해올 뉴스 링크 초기화 및 LangSmith 플랫폼과 로컬 LLM이 있는 PC와의 상호작용하기 위한 Langsmith Client 생성 "
   ]
  },
  {
   "cell_type": "code",
   "execution_count": 2,
   "id": "011dd3a1",
   "metadata": {},
   "outputs": [
    {
     "name": "stderr",
     "output_type": "stream",
     "text": [
      "c:\\Users\\IT\\anaconda3\\envs\\LG_LLM\\lib\\site-packages\\langsmith\\client.py:272: LangSmithMissingAPIKeyWarning: API key must be provided when using hosted LangSmith API\n",
      "  warnings.warn(\n"
     ]
    }
   ],
   "source": [
    "# 1-2. 테스트 대상이 되는 뉴스 URLs\n",
    "news_urls = [\n",
    "    \"\"\"https://www.bbc.com/korean/articles/c166p510n79o\"\"\",\n",
    "]\n",
    "# 1-3. langsmith client 생성\n",
    "client = Client()"
   ]
  },
  {
   "cell_type": "markdown",
   "id": "99821b43",
   "metadata": {},
   "source": [
    "* 뉴스 요약용 프롬프트 생성\n",
    "    * LangSmith로 프롬프트를 개선하려면 “예제(뉴스 요약)”과 “이에 대한 피드백을 통한 프롬프트 개선” 총 2번 LLM을 사용함\n",
    "    * “뉴스 요약용” 프롬프트와 “프롬프트 개선용” 프롬프트 두개가 필요\n",
    "    * 뉴스 요약 프롬프트에서 지시문이 들어갈 부분을 instruction 변수로 밖으로 빼서 이후에 이 변수 부분만 업데이트하고 나머지 전체 형식은 유지\n"
   ]
  },
  {
   "cell_type": "code",
   "execution_count": 3,
   "id": "a7151dad",
   "metadata": {},
   "outputs": [],
   "source": [
    "# 1-4. 뉴스 요약 PROMPT Template 생성\n",
    "instruction = \"\"\"당신의 임무는 주어진 뉴스(news_text)에서 기사제목(title), 작성자(author), \n",
    "작성일자(date), 요약문(summary) - 4가지 항목을 추출하는 것입니다.\n",
    "결과는 한국어로 작성해야합니다. 뉴스와 관련성이 높은 내용만 포함하고 추측된 내용을 생성하지 마세요.\n",
    "\"\"\"\n",
    "prompt = PromptTemplate.from_template(\n",
    "    \"\"\"당신은 뉴스 기사를 요약, 정리하는 AI 어시스턴트입니다. \n",
    "     {instruction}\n",
    "\n",
    "<news_text>\n",
    "{news}\n",
    "<news_text>\n",
    "\n",
    "요약된 결과는 아래 형식에 맞춰야합니다.\n",
    "<news>\n",
    "  <title></title>\n",
    "  <author></author>\n",
    "  <date></date>\n",
    "  <summary></summary>\n",
    "</news>\n",
    "\"\"\"\n",
    ")"
   ]
  },
  {
   "cell_type": "markdown",
   "id": "66da57c7",
   "metadata": {},
   "source": [
    "* 프롬프트 개선용 프롬프트 생성"
   ]
  },
  {
   "cell_type": "code",
   "execution_count": 4,
   "id": "1e9ca579",
   "metadata": {},
   "outputs": [],
   "source": [
    "# 1-5. PROMPT 최적화용 Template 생성\n",
    "optimizer_prompt = PromptTemplate.from_template(\n",
    "    \"\"\"당신은 AI 프롬프트 전문가입니다. \n",
    "아래 뉴스 요약 프롬프트(<prompt>)가 있습니다.\n",
    "<prompt>\n",
    "{instruction}\n",
    "</prompt>\n",
    "\n",
    "그리고 결과의 만족도를 평가한 피드백(<feedbacks>)이 주어집니다.\n",
    "<feedbacks>\n",
    "{human_feedback}\n",
    "</feedbacks>\n",
    "\n",
    "당신은 이 피드백을 참고해서 기존의 프롬프트(<prompt>)를 개선해야 합니다.\n",
    "개선된 프롬프트는 <newprompt></newprompt> 태그 사이에 넣어주세요.\n",
    "\"\"\"\n",
    ")\n"
   ]
  },
  {
   "cell_type": "markdown",
   "id": "e19354fb",
   "metadata": {},
   "source": [
    "* WebBaseLoader: LangChain의 웹 문서 로더로, URL 목록에 있는 웹페이지를 불러옴\n",
    "* bs_kwargs : BeautifulSoup라는 Python에서 HTML, XML 문서로부터 쉽게 데이터를 추출할 수 있게 돕는 라이브러리를 쓸 때 파라미터를 설정 div 태그 중 class가 bbc-1cvxiy9, bbc-fa0wmp인 것만 필터링함은 의미"
   ]
  },
  {
   "cell_type": "code",
   "execution_count": null,
   "id": "35e80f1c",
   "metadata": {},
   "outputs": [
    {
     "ename": "LangSmithAuthError",
     "evalue": "Authentication failed for /datasets. HTTPError('401 Client Error: Unauthorized for url: https://api.smith.langchain.com/datasets?limit=100&name=prompt_enhance_example&offset=0', '{\"detail\":\"Invalid token\"}')",
     "output_type": "error",
     "traceback": [
      "\u001b[1;31m---------------------------------------------------------------------------\u001b[0m",
      "\u001b[1;31mHTTPError\u001b[0m                                 Traceback (most recent call last)",
      "File \u001b[1;32mc:\\Users\\IT\\anaconda3\\envs\\LG_LLM\\lib\\site-packages\\langsmith\\utils.py:154\u001b[0m, in \u001b[0;36mraise_for_status_with_text\u001b[1;34m(response)\u001b[0m\n\u001b[0;32m    153\u001b[0m \u001b[38;5;28;01mtry\u001b[39;00m:\n\u001b[1;32m--> 154\u001b[0m     \u001b[43mresponse\u001b[49m\u001b[38;5;241;43m.\u001b[39;49m\u001b[43mraise_for_status\u001b[49m\u001b[43m(\u001b[49m\u001b[43m)\u001b[49m\n\u001b[0;32m    155\u001b[0m \u001b[38;5;28;01mexcept\u001b[39;00m requests\u001b[38;5;241m.\u001b[39mHTTPError \u001b[38;5;28;01mas\u001b[39;00m e:\n",
      "File \u001b[1;32mc:\\Users\\IT\\anaconda3\\envs\\LG_LLM\\lib\\site-packages\\requests\\models.py:1026\u001b[0m, in \u001b[0;36mResponse.raise_for_status\u001b[1;34m(self)\u001b[0m\n\u001b[0;32m   1025\u001b[0m \u001b[38;5;28;01mif\u001b[39;00m http_error_msg:\n\u001b[1;32m-> 1026\u001b[0m     \u001b[38;5;28;01mraise\u001b[39;00m HTTPError(http_error_msg, response\u001b[38;5;241m=\u001b[39m\u001b[38;5;28mself\u001b[39m)\n",
      "\u001b[1;31mHTTPError\u001b[0m: 401 Client Error: Unauthorized for url: https://api.smith.langchain.com/datasets",
      "\nThe above exception was the direct cause of the following exception:\n",
      "\u001b[1;31mHTTPError\u001b[0m                                 Traceback (most recent call last)",
      "File \u001b[1;32mc:\\Users\\IT\\anaconda3\\envs\\LG_LLM\\lib\\site-packages\\langsmith\\client.py:828\u001b[0m, in \u001b[0;36mClient.request_with_retries\u001b[1;34m(self, method, pathname, request_kwargs, stop_after_attempt, retry_on, to_ignore, handle_response, _context, **kwargs)\u001b[0m\n\u001b[0;32m    822\u001b[0m     response \u001b[38;5;241m=\u001b[39m \u001b[38;5;28mself\u001b[39m\u001b[38;5;241m.\u001b[39msession\u001b[38;5;241m.\u001b[39mrequest(\n\u001b[0;32m    823\u001b[0m         method,\n\u001b[0;32m    824\u001b[0m         _construct_url(\u001b[38;5;28mself\u001b[39m\u001b[38;5;241m.\u001b[39mapi_url, pathname),\n\u001b[0;32m    825\u001b[0m         stream\u001b[38;5;241m=\u001b[39m\u001b[38;5;28;01mFalse\u001b[39;00m,\n\u001b[0;32m    826\u001b[0m         \u001b[38;5;241m*\u001b[39m\u001b[38;5;241m*\u001b[39mrequest_kwargs,\n\u001b[0;32m    827\u001b[0m     )\n\u001b[1;32m--> 828\u001b[0m \u001b[43mls_utils\u001b[49m\u001b[38;5;241;43m.\u001b[39;49m\u001b[43mraise_for_status_with_text\u001b[49m\u001b[43m(\u001b[49m\u001b[43mresponse\u001b[49m\u001b[43m)\u001b[49m\n\u001b[0;32m    829\u001b[0m \u001b[38;5;28;01mreturn\u001b[39;00m response\n",
      "File \u001b[1;32mc:\\Users\\IT\\anaconda3\\envs\\LG_LLM\\lib\\site-packages\\langsmith\\utils.py:156\u001b[0m, in \u001b[0;36mraise_for_status_with_text\u001b[1;34m(response)\u001b[0m\n\u001b[0;32m    155\u001b[0m \u001b[38;5;28;01mexcept\u001b[39;00m requests\u001b[38;5;241m.\u001b[39mHTTPError \u001b[38;5;28;01mas\u001b[39;00m e:\n\u001b[1;32m--> 156\u001b[0m     \u001b[38;5;28;01mraise\u001b[39;00m requests\u001b[38;5;241m.\u001b[39mHTTPError(\u001b[38;5;28mstr\u001b[39m(e), response\u001b[38;5;241m.\u001b[39mtext) \u001b[38;5;28;01mfrom\u001b[39;00m\u001b[38;5;250m \u001b[39m\u001b[38;5;21;01me\u001b[39;00m  \u001b[38;5;66;03m# type: ignore[call-arg]\u001b[39;00m\n\u001b[0;32m    157\u001b[0m \u001b[38;5;28;01mexcept\u001b[39;00m httpx\u001b[38;5;241m.\u001b[39mHTTPStatusError \u001b[38;5;28;01mas\u001b[39;00m e:\n",
      "\u001b[1;31mHTTPError\u001b[0m: [Errno 401 Client Error: Unauthorized for url: https://api.smith.langchain.com/datasets] {\"detail\":\"Invalid token\"}",
      "\nDuring handling of the above exception, another exception occurred:\n",
      "\u001b[1;31mLangSmithAuthError\u001b[0m                        Traceback (most recent call last)",
      "Cell \u001b[1;32mIn[5], line 15\u001b[0m\n\u001b[0;32m     14\u001b[0m \u001b[38;5;28;01mtry\u001b[39;00m:\n\u001b[1;32m---> 15\u001b[0m     ds \u001b[38;5;241m=\u001b[39m \u001b[43mclient\u001b[49m\u001b[38;5;241;43m.\u001b[39;49m\u001b[43mcreate_dataset\u001b[49m\u001b[43m(\u001b[49m\u001b[43mdataset_name\u001b[49m\u001b[38;5;241;43m=\u001b[39;49m\u001b[43mproject_name\u001b[49m\u001b[43m)\u001b[49m\n\u001b[0;32m     16\u001b[0m     \u001b[38;5;28mprint\u001b[39m(\u001b[38;5;124mf\u001b[39m\u001b[38;5;124m\"\u001b[39m\u001b[38;5;124m----- New dataset created: \u001b[39m\u001b[38;5;132;01m{\u001b[39;00mds\u001b[38;5;132;01m}\u001b[39;00m\u001b[38;5;124m\"\u001b[39m)\n",
      "File \u001b[1;32mc:\\Users\\IT\\anaconda3\\envs\\LG_LLM\\lib\\site-packages\\langsmith\\client.py:3417\u001b[0m, in \u001b[0;36mClient.create_dataset\u001b[1;34m(self, dataset_name, description, data_type, inputs_schema, outputs_schema, transformations, metadata)\u001b[0m\n\u001b[0;32m   3415\u001b[0m     dataset[\u001b[38;5;124m\"\u001b[39m\u001b[38;5;124moutputs_schema_definition\u001b[39m\u001b[38;5;124m\"\u001b[39m] \u001b[38;5;241m=\u001b[39m outputs_schema\n\u001b[1;32m-> 3417\u001b[0m response \u001b[38;5;241m=\u001b[39m \u001b[38;5;28;43mself\u001b[39;49m\u001b[38;5;241;43m.\u001b[39;49m\u001b[43mrequest_with_retries\u001b[49m\u001b[43m(\u001b[49m\n\u001b[0;32m   3418\u001b[0m \u001b[43m    \u001b[49m\u001b[38;5;124;43m\"\u001b[39;49m\u001b[38;5;124;43mPOST\u001b[39;49m\u001b[38;5;124;43m\"\u001b[39;49m\u001b[43m,\u001b[49m\n\u001b[0;32m   3419\u001b[0m \u001b[43m    \u001b[49m\u001b[38;5;124;43m\"\u001b[39;49m\u001b[38;5;124;43m/datasets\u001b[39;49m\u001b[38;5;124;43m\"\u001b[39;49m\u001b[43m,\u001b[49m\n\u001b[0;32m   3420\u001b[0m \u001b[43m    \u001b[49m\u001b[43mheaders\u001b[49m\u001b[38;5;241;43m=\u001b[39;49m\u001b[43m{\u001b[49m\u001b[38;5;241;43m*\u001b[39;49m\u001b[38;5;241;43m*\u001b[39;49m\u001b[38;5;28;43mself\u001b[39;49m\u001b[38;5;241;43m.\u001b[39;49m\u001b[43m_headers\u001b[49m\u001b[43m,\u001b[49m\u001b[43m \u001b[49m\u001b[38;5;124;43m\"\u001b[39;49m\u001b[38;5;124;43mContent-Type\u001b[39;49m\u001b[38;5;124;43m\"\u001b[39;49m\u001b[43m:\u001b[49m\u001b[43m \u001b[49m\u001b[38;5;124;43m\"\u001b[39;49m\u001b[38;5;124;43mapplication/json\u001b[39;49m\u001b[38;5;124;43m\"\u001b[39;49m\u001b[43m}\u001b[49m\u001b[43m,\u001b[49m\n\u001b[0;32m   3421\u001b[0m \u001b[43m    \u001b[49m\u001b[43mdata\u001b[49m\u001b[38;5;241;43m=\u001b[39;49m\u001b[43m_orjson\u001b[49m\u001b[38;5;241;43m.\u001b[39;49m\u001b[43mdumps\u001b[49m\u001b[43m(\u001b[49m\u001b[43mdataset\u001b[49m\u001b[43m)\u001b[49m\u001b[43m,\u001b[49m\n\u001b[0;32m   3422\u001b[0m \u001b[43m\u001b[49m\u001b[43m)\u001b[49m\n\u001b[0;32m   3423\u001b[0m ls_utils\u001b[38;5;241m.\u001b[39mraise_for_status_with_text(response)\n",
      "File \u001b[1;32mc:\\Users\\IT\\anaconda3\\envs\\LG_LLM\\lib\\site-packages\\langsmith\\client.py:863\u001b[0m, in \u001b[0;36mClient.request_with_retries\u001b[1;34m(self, method, pathname, request_kwargs, stop_after_attempt, retry_on, to_ignore, handle_response, _context, **kwargs)\u001b[0m\n\u001b[0;32m    862\u001b[0m \u001b[38;5;28;01melif\u001b[39;00m response\u001b[38;5;241m.\u001b[39mstatus_code \u001b[38;5;241m==\u001b[39m \u001b[38;5;241m401\u001b[39m:\n\u001b[1;32m--> 863\u001b[0m     \u001b[38;5;28;01mraise\u001b[39;00m ls_utils\u001b[38;5;241m.\u001b[39mLangSmithAuthError(\n\u001b[0;32m    864\u001b[0m         \u001b[38;5;124mf\u001b[39m\u001b[38;5;124m\"\u001b[39m\u001b[38;5;124mAuthentication failed for \u001b[39m\u001b[38;5;132;01m{\u001b[39;00mpathname\u001b[38;5;132;01m}\u001b[39;00m\u001b[38;5;124m. \u001b[39m\u001b[38;5;132;01m{\u001b[39;00m\u001b[38;5;28mrepr\u001b[39m(e)\u001b[38;5;132;01m}\u001b[39;00m\u001b[38;5;124m\"\u001b[39m\n\u001b[0;32m    865\u001b[0m         \u001b[38;5;124mf\u001b[39m\u001b[38;5;124m\"\u001b[39m\u001b[38;5;132;01m{\u001b[39;00m_context\u001b[38;5;132;01m}\u001b[39;00m\u001b[38;5;124m\"\u001b[39m\n\u001b[0;32m    866\u001b[0m     )\n\u001b[0;32m    867\u001b[0m \u001b[38;5;28;01melif\u001b[39;00m response\u001b[38;5;241m.\u001b[39mstatus_code \u001b[38;5;241m==\u001b[39m \u001b[38;5;241m404\u001b[39m:\n",
      "\u001b[1;31mLangSmithAuthError\u001b[0m: Authentication failed for /datasets. HTTPError('401 Client Error: Unauthorized for url: https://api.smith.langchain.com/datasets', '{\"detail\":\"Invalid token\"}')",
      "\nDuring handling of the above exception, another exception occurred:\n",
      "\u001b[1;31mHTTPError\u001b[0m                                 Traceback (most recent call last)",
      "File \u001b[1;32mc:\\Users\\IT\\anaconda3\\envs\\LG_LLM\\lib\\site-packages\\langsmith\\utils.py:154\u001b[0m, in \u001b[0;36mraise_for_status_with_text\u001b[1;34m(response)\u001b[0m\n\u001b[0;32m    153\u001b[0m \u001b[38;5;28;01mtry\u001b[39;00m:\n\u001b[1;32m--> 154\u001b[0m     \u001b[43mresponse\u001b[49m\u001b[38;5;241;43m.\u001b[39;49m\u001b[43mraise_for_status\u001b[49m\u001b[43m(\u001b[49m\u001b[43m)\u001b[49m\n\u001b[0;32m    155\u001b[0m \u001b[38;5;28;01mexcept\u001b[39;00m requests\u001b[38;5;241m.\u001b[39mHTTPError \u001b[38;5;28;01mas\u001b[39;00m e:\n",
      "File \u001b[1;32mc:\\Users\\IT\\anaconda3\\envs\\LG_LLM\\lib\\site-packages\\requests\\models.py:1026\u001b[0m, in \u001b[0;36mResponse.raise_for_status\u001b[1;34m(self)\u001b[0m\n\u001b[0;32m   1025\u001b[0m \u001b[38;5;28;01mif\u001b[39;00m http_error_msg:\n\u001b[1;32m-> 1026\u001b[0m     \u001b[38;5;28;01mraise\u001b[39;00m HTTPError(http_error_msg, response\u001b[38;5;241m=\u001b[39m\u001b[38;5;28mself\u001b[39m)\n",
      "\u001b[1;31mHTTPError\u001b[0m: 401 Client Error: Unauthorized for url: https://api.smith.langchain.com/datasets?limit=100&name=prompt_enhance_example&offset=0",
      "\nThe above exception was the direct cause of the following exception:\n",
      "\u001b[1;31mHTTPError\u001b[0m                                 Traceback (most recent call last)",
      "File \u001b[1;32mc:\\Users\\IT\\anaconda3\\envs\\LG_LLM\\lib\\site-packages\\langsmith\\client.py:828\u001b[0m, in \u001b[0;36mClient.request_with_retries\u001b[1;34m(self, method, pathname, request_kwargs, stop_after_attempt, retry_on, to_ignore, handle_response, _context, **kwargs)\u001b[0m\n\u001b[0;32m    822\u001b[0m     response \u001b[38;5;241m=\u001b[39m \u001b[38;5;28mself\u001b[39m\u001b[38;5;241m.\u001b[39msession\u001b[38;5;241m.\u001b[39mrequest(\n\u001b[0;32m    823\u001b[0m         method,\n\u001b[0;32m    824\u001b[0m         _construct_url(\u001b[38;5;28mself\u001b[39m\u001b[38;5;241m.\u001b[39mapi_url, pathname),\n\u001b[0;32m    825\u001b[0m         stream\u001b[38;5;241m=\u001b[39m\u001b[38;5;28;01mFalse\u001b[39;00m,\n\u001b[0;32m    826\u001b[0m         \u001b[38;5;241m*\u001b[39m\u001b[38;5;241m*\u001b[39mrequest_kwargs,\n\u001b[0;32m    827\u001b[0m     )\n\u001b[1;32m--> 828\u001b[0m \u001b[43mls_utils\u001b[49m\u001b[38;5;241;43m.\u001b[39;49m\u001b[43mraise_for_status_with_text\u001b[49m\u001b[43m(\u001b[49m\u001b[43mresponse\u001b[49m\u001b[43m)\u001b[49m\n\u001b[0;32m    829\u001b[0m \u001b[38;5;28;01mreturn\u001b[39;00m response\n",
      "File \u001b[1;32mc:\\Users\\IT\\anaconda3\\envs\\LG_LLM\\lib\\site-packages\\langsmith\\utils.py:156\u001b[0m, in \u001b[0;36mraise_for_status_with_text\u001b[1;34m(response)\u001b[0m\n\u001b[0;32m    155\u001b[0m \u001b[38;5;28;01mexcept\u001b[39;00m requests\u001b[38;5;241m.\u001b[39mHTTPError \u001b[38;5;28;01mas\u001b[39;00m e:\n\u001b[1;32m--> 156\u001b[0m     \u001b[38;5;28;01mraise\u001b[39;00m requests\u001b[38;5;241m.\u001b[39mHTTPError(\u001b[38;5;28mstr\u001b[39m(e), response\u001b[38;5;241m.\u001b[39mtext) \u001b[38;5;28;01mfrom\u001b[39;00m\u001b[38;5;250m \u001b[39m\u001b[38;5;21;01me\u001b[39;00m  \u001b[38;5;66;03m# type: ignore[call-arg]\u001b[39;00m\n\u001b[0;32m    157\u001b[0m \u001b[38;5;28;01mexcept\u001b[39;00m httpx\u001b[38;5;241m.\u001b[39mHTTPStatusError \u001b[38;5;28;01mas\u001b[39;00m e:\n",
      "\u001b[1;31mHTTPError\u001b[0m: [Errno 401 Client Error: Unauthorized for url: https://api.smith.langchain.com/datasets?limit=100&name=prompt_enhance_example&offset=0] {\"detail\":\"Invalid token\"}",
      "\nDuring handling of the above exception, another exception occurred:\n",
      "\u001b[1;31mLangSmithAuthError\u001b[0m                        Traceback (most recent call last)",
      "Cell \u001b[1;32mIn[5], line 19\u001b[0m\n\u001b[0;32m     16\u001b[0m     \u001b[38;5;28mprint\u001b[39m(\u001b[38;5;124mf\u001b[39m\u001b[38;5;124m\"\u001b[39m\u001b[38;5;124m----- New dataset created: \u001b[39m\u001b[38;5;132;01m{\u001b[39;00mds\u001b[38;5;132;01m}\u001b[39;00m\u001b[38;5;124m\"\u001b[39m)\n\u001b[0;32m     17\u001b[0m \u001b[38;5;28;01mexcept\u001b[39;00m \u001b[38;5;167;01mException\u001b[39;00m \u001b[38;5;28;01mas\u001b[39;00m e:\n\u001b[0;32m     18\u001b[0m     \u001b[38;5;66;03m# 이미 존재하는 경우, 기존 dataset을 가져옵니다\u001b[39;00m\n\u001b[1;32m---> 19\u001b[0m     existing_datasets \u001b[38;5;241m=\u001b[39m \u001b[38;5;28;43mlist\u001b[39;49m\u001b[43m(\u001b[49m\u001b[43mclient\u001b[49m\u001b[38;5;241;43m.\u001b[39;49m\u001b[43mlist_datasets\u001b[49m\u001b[43m(\u001b[49m\u001b[43mdataset_name\u001b[49m\u001b[38;5;241;43m=\u001b[39;49m\u001b[43mproject_name\u001b[49m\u001b[43m)\u001b[49m\u001b[43m)\u001b[49m\n\u001b[0;32m     20\u001b[0m     \u001b[38;5;28;01mif\u001b[39;00m existing_datasets:\n\u001b[0;32m     21\u001b[0m         ds \u001b[38;5;241m=\u001b[39m existing_datasets[\u001b[38;5;241m0\u001b[39m]\n",
      "File \u001b[1;32mc:\\Users\\IT\\anaconda3\\envs\\LG_LLM\\lib\\site-packages\\langsmith\\client.py:3647\u001b[0m, in \u001b[0;36mClient.list_datasets\u001b[1;34m(self, dataset_ids, data_type, dataset_name, dataset_name_contains, metadata, limit)\u001b[0m\n\u001b[0;32m   3645\u001b[0m \u001b[38;5;28;01mif\u001b[39;00m metadata \u001b[38;5;129;01mis\u001b[39;00m \u001b[38;5;129;01mnot\u001b[39;00m \u001b[38;5;28;01mNone\u001b[39;00m:\n\u001b[0;32m   3646\u001b[0m     params[\u001b[38;5;124m\"\u001b[39m\u001b[38;5;124mmetadata\u001b[39m\u001b[38;5;124m\"\u001b[39m] \u001b[38;5;241m=\u001b[39m json\u001b[38;5;241m.\u001b[39mdumps(metadata)\n\u001b[1;32m-> 3647\u001b[0m \u001b[38;5;28;01mfor\u001b[39;00m i, dataset \u001b[38;5;129;01min\u001b[39;00m \u001b[38;5;28menumerate\u001b[39m(\n\u001b[0;32m   3648\u001b[0m     \u001b[38;5;28mself\u001b[39m\u001b[38;5;241m.\u001b[39m_get_paginated_list(\u001b[38;5;124m\"\u001b[39m\u001b[38;5;124m/datasets\u001b[39m\u001b[38;5;124m\"\u001b[39m, params\u001b[38;5;241m=\u001b[39mparams)\n\u001b[0;32m   3649\u001b[0m ):\n\u001b[0;32m   3650\u001b[0m     \u001b[38;5;28;01myield\u001b[39;00m ls_schemas\u001b[38;5;241m.\u001b[39mDataset(\n\u001b[0;32m   3651\u001b[0m         \u001b[38;5;241m*\u001b[39m\u001b[38;5;241m*\u001b[39mdataset,\n\u001b[0;32m   3652\u001b[0m         _host_url\u001b[38;5;241m=\u001b[39m\u001b[38;5;28mself\u001b[39m\u001b[38;5;241m.\u001b[39m_host_url,\n\u001b[0;32m   3653\u001b[0m         _tenant_id\u001b[38;5;241m=\u001b[39m\u001b[38;5;28mself\u001b[39m\u001b[38;5;241m.\u001b[39m_get_optional_tenant_id(),\n\u001b[0;32m   3654\u001b[0m     )\n\u001b[0;32m   3655\u001b[0m     \u001b[38;5;28;01mif\u001b[39;00m limit \u001b[38;5;129;01mis\u001b[39;00m \u001b[38;5;129;01mnot\u001b[39;00m \u001b[38;5;28;01mNone\u001b[39;00m \u001b[38;5;129;01mand\u001b[39;00m i \u001b[38;5;241m+\u001b[39m \u001b[38;5;241m1\u001b[39m \u001b[38;5;241m>\u001b[39m\u001b[38;5;241m=\u001b[39m limit:\n",
      "File \u001b[1;32mc:\\Users\\IT\\anaconda3\\envs\\LG_LLM\\lib\\site-packages\\langsmith\\client.py:984\u001b[0m, in \u001b[0;36mClient._get_paginated_list\u001b[1;34m(self, path, params)\u001b[0m\n\u001b[0;32m    982\u001b[0m \u001b[38;5;28;01mwhile\u001b[39;00m \u001b[38;5;28;01mTrue\u001b[39;00m:\n\u001b[0;32m    983\u001b[0m     params_[\u001b[38;5;124m\"\u001b[39m\u001b[38;5;124moffset\u001b[39m\u001b[38;5;124m\"\u001b[39m] \u001b[38;5;241m=\u001b[39m offset\n\u001b[1;32m--> 984\u001b[0m     response \u001b[38;5;241m=\u001b[39m \u001b[38;5;28;43mself\u001b[39;49m\u001b[38;5;241;43m.\u001b[39;49m\u001b[43mrequest_with_retries\u001b[49m\u001b[43m(\u001b[49m\n\u001b[0;32m    985\u001b[0m \u001b[43m        \u001b[49m\u001b[38;5;124;43m\"\u001b[39;49m\u001b[38;5;124;43mGET\u001b[39;49m\u001b[38;5;124;43m\"\u001b[39;49m\u001b[43m,\u001b[49m\n\u001b[0;32m    986\u001b[0m \u001b[43m        \u001b[49m\u001b[43mpath\u001b[49m\u001b[43m,\u001b[49m\n\u001b[0;32m    987\u001b[0m \u001b[43m        \u001b[49m\u001b[43mparams\u001b[49m\u001b[38;5;241;43m=\u001b[39;49m\u001b[43mparams_\u001b[49m\u001b[43m,\u001b[49m\n\u001b[0;32m    988\u001b[0m \u001b[43m    \u001b[49m\u001b[43m)\u001b[49m\n\u001b[0;32m    989\u001b[0m     items \u001b[38;5;241m=\u001b[39m response\u001b[38;5;241m.\u001b[39mjson()\n\u001b[0;32m    990\u001b[0m     \u001b[38;5;28;01mif\u001b[39;00m \u001b[38;5;129;01mnot\u001b[39;00m items:\n",
      "File \u001b[1;32mc:\\Users\\IT\\anaconda3\\envs\\LG_LLM\\lib\\site-packages\\langsmith\\client.py:863\u001b[0m, in \u001b[0;36mClient.request_with_retries\u001b[1;34m(self, method, pathname, request_kwargs, stop_after_attempt, retry_on, to_ignore, handle_response, _context, **kwargs)\u001b[0m\n\u001b[0;32m    858\u001b[0m     \u001b[38;5;28;01mraise\u001b[39;00m ls_utils\u001b[38;5;241m.\u001b[39mLangSmithRateLimitError(\n\u001b[0;32m    859\u001b[0m         \u001b[38;5;124mf\u001b[39m\u001b[38;5;124m\"\u001b[39m\u001b[38;5;124mRate limit exceeded for \u001b[39m\u001b[38;5;132;01m{\u001b[39;00mpathname\u001b[38;5;132;01m}\u001b[39;00m\u001b[38;5;124m. \u001b[39m\u001b[38;5;132;01m{\u001b[39;00m\u001b[38;5;28mrepr\u001b[39m(e)\u001b[38;5;132;01m}\u001b[39;00m\u001b[38;5;124m\"\u001b[39m\n\u001b[0;32m    860\u001b[0m         \u001b[38;5;124mf\u001b[39m\u001b[38;5;124m\"\u001b[39m\u001b[38;5;132;01m{\u001b[39;00m_context\u001b[38;5;132;01m}\u001b[39;00m\u001b[38;5;124m\"\u001b[39m\n\u001b[0;32m    861\u001b[0m     )\n\u001b[0;32m    862\u001b[0m \u001b[38;5;28;01melif\u001b[39;00m response\u001b[38;5;241m.\u001b[39mstatus_code \u001b[38;5;241m==\u001b[39m \u001b[38;5;241m401\u001b[39m:\n\u001b[1;32m--> 863\u001b[0m     \u001b[38;5;28;01mraise\u001b[39;00m ls_utils\u001b[38;5;241m.\u001b[39mLangSmithAuthError(\n\u001b[0;32m    864\u001b[0m         \u001b[38;5;124mf\u001b[39m\u001b[38;5;124m\"\u001b[39m\u001b[38;5;124mAuthentication failed for \u001b[39m\u001b[38;5;132;01m{\u001b[39;00mpathname\u001b[38;5;132;01m}\u001b[39;00m\u001b[38;5;124m. \u001b[39m\u001b[38;5;132;01m{\u001b[39;00m\u001b[38;5;28mrepr\u001b[39m(e)\u001b[38;5;132;01m}\u001b[39;00m\u001b[38;5;124m\"\u001b[39m\n\u001b[0;32m    865\u001b[0m         \u001b[38;5;124mf\u001b[39m\u001b[38;5;124m\"\u001b[39m\u001b[38;5;132;01m{\u001b[39;00m_context\u001b[38;5;132;01m}\u001b[39;00m\u001b[38;5;124m\"\u001b[39m\n\u001b[0;32m    866\u001b[0m     )\n\u001b[0;32m    867\u001b[0m \u001b[38;5;28;01melif\u001b[39;00m response\u001b[38;5;241m.\u001b[39mstatus_code \u001b[38;5;241m==\u001b[39m \u001b[38;5;241m404\u001b[39m:\n\u001b[0;32m    868\u001b[0m     \u001b[38;5;28;01mraise\u001b[39;00m ls_utils\u001b[38;5;241m.\u001b[39mLangSmithNotFoundError(\n\u001b[0;32m    869\u001b[0m         \u001b[38;5;124mf\u001b[39m\u001b[38;5;124m\"\u001b[39m\u001b[38;5;124mResource not found for \u001b[39m\u001b[38;5;132;01m{\u001b[39;00mpathname\u001b[38;5;132;01m}\u001b[39;00m\u001b[38;5;124m. \u001b[39m\u001b[38;5;132;01m{\u001b[39;00m\u001b[38;5;28mrepr\u001b[39m(e)\u001b[38;5;132;01m}\u001b[39;00m\u001b[38;5;124m\"\u001b[39m\n\u001b[0;32m    870\u001b[0m         \u001b[38;5;124mf\u001b[39m\u001b[38;5;124m\"\u001b[39m\u001b[38;5;132;01m{\u001b[39;00m_context\u001b[38;5;132;01m}\u001b[39;00m\u001b[38;5;124m\"\u001b[39m\n\u001b[0;32m    871\u001b[0m     )\n",
      "\u001b[1;31mLangSmithAuthError\u001b[0m: Authentication failed for /datasets. HTTPError('401 Client Error: Unauthorized for url: https://api.smith.langchain.com/datasets?limit=100&name=prompt_enhance_example&offset=0', '{\"detail\":\"Invalid token\"}')"
     ]
    },
    {
     "ename": "",
     "evalue": "",
     "output_type": "error",
     "traceback": [
      "\u001b[1;31m현재 셀 또는 이전 셀에서 코드를 실행하는 동안 Kernel이 충돌했습니다. \n",
      "\u001b[1;31m셀의 코드를 검토하여 가능한 오류 원인을 식별하세요. \n",
      "\u001b[1;31m자세한 내용을 보려면 <a href='https://aka.ms/vscodeJupyterKernelCrash'>여기</a>를 클릭하세요. \n",
      "\u001b[1;31m자세한 내용은 Jupyter <a href='command:jupyter.viewOutput'>로그</a>를 참조하세요."
     ]
    }
   ],
   "source": [
    "# 1-5. 뉴스 스크래핑 (Document Loading)\n",
    "loader = WebBaseLoader(\n",
    "    web_paths=(news_urls),\n",
    "    bs_kwargs=dict(\n",
    "        parse_only=bs4.SoupStrainer(\n",
    "            \"div\",\n",
    "            attrs={\"class\": [\"bbc-1cvxiy9\", \"bbc-fa0wmp\"]},\n",
    "        )\n",
    "    ),\n",
    ")\n",
    "news_array = loader.load()\n",
    "\n",
    "# 1-6. 뉴스 원문을 저장할 dataset 생성 또는 가져오기\n",
    "try:\n",
    "    ds = client.create_dataset(dataset_name=project_name)\n",
    "    print(f\"----- New dataset created: {ds}\")\n",
    "except Exception as e:\n",
    "    # 이미 존재하는 경우, 기존 dataset을 가져옵니다\n",
    "    existing_datasets = list(client.list_datasets(dataset_name=project_name))\n",
    "    if existing_datasets:\n",
    "        ds = existing_datasets[0]\n",
    "        print(f\"----- Using existing dataset: {ds}\")\n",
    "    else:\n",
    "        print(f\"----- Failed to create or retrieve dataset: {e}\")"
   ]
  },
  {
   "cell_type": "markdown",
   "id": "0fc24324",
   "metadata": {},
   "source": [
    "* 사용할 LLM 들을 초기화하고 뉴스 요약에는 llama 3.1 프롬프트 개선에는 exaone 3.5를 사용"
   ]
  },
  {
   "cell_type": "code",
   "execution_count": 35,
   "id": "4d4cbbff",
   "metadata": {},
   "outputs": [],
   "source": [
    "# 1-7. 사용할 LLM 초기화\n",
    "summary_llm = Ollama(model=\"llama3.1\", temperature=0)\n",
    "optimizer_llm = ChatOllama(model=\"exaone3.5:7.8b\")"
   ]
  },
  {
   "cell_type": "code",
   "execution_count": 36,
   "id": "a38930bf",
   "metadata": {},
   "outputs": [],
   "source": [
    "# 2-1. 중간중간 생성되는 데이터를 담는 변수 선언\n",
    "news = news_array[0]\n",
    "example_uuid = str(uuid.uuid4())"
   ]
  },
  {
   "cell_type": "markdown",
   "id": "2458e781",
   "metadata": {},
   "source": [
    "* LangSmith에서 테스트 대상이 되는 데이터(뉴스 데이터)를 담을 수 있는 구조가 dataset\n",
    "* dataset에 example이라는 이름으로 테스트 데이터를 등록하는 작업\n",
    "* ids는 편의상 임의의 ID(uuid)를 지정해두고 이 값을 공유해서 사용"
   ]
  },
  {
   "cell_type": "code",
   "execution_count": 37,
   "id": "e5c02ae6",
   "metadata": {},
   "outputs": [
    {
     "name": "stdout",
     "output_type": "stream",
     "text": [
      "----- Added new examples successfully (46bb51b4-e978-4279-aecf-6e5e162cd8ad)\n"
     ]
    }
   ],
   "source": [
    "# 2-2. 앞서 생성한 데이터셋에 example 추가\n",
    "try:\n",
    "    client.create_examples(\n",
    "        ids=[example_uuid],\n",
    "        inputs=[{\"news\": news.page_content[:1000], \"instruction\" : instruction}],\n",
    "        dataset_id=ds.id,\n",
    "    )\n",
    "    print(f\"----- Added new examples successfully ({example_uuid})\")\n",
    "except Exception as e:\n",
    "    print(f\"----- Failed to add example: {e}\")"
   ]
  },
  {
   "cell_type": "code",
   "execution_count": 38,
   "id": "d442bea3",
   "metadata": {},
   "outputs": [],
   "source": [
    "# 2-3. 프롬프트를 실행할 체인생성\n",
    "summary_chain = prompt | summary_llm | StrOutputParser()"
   ]
  },
  {
   "cell_type": "markdown",
   "id": "99ed6d28",
   "metadata": {},
   "source": [
    "* 데이터셋에 있는 뉴스를 뉴스 요약용 체인을 이용해 요약"
   ]
  },
  {
   "cell_type": "code",
   "execution_count": 39,
   "id": "f7650d2f",
   "metadata": {},
   "outputs": [
    {
     "name": "stdout",
     "output_type": "stream",
     "text": [
      "----- Run chain on new example\n",
      "View the evaluation results for project 'memorable-hope-29' at:\n",
      "https://smith.langchain.com/o/b0bf207d-6152-41bc-8620-1d01b85129e7/datasets/78467282-9224-4cbb-a5d5-ec569626e546/compare?selectedSessions=89de1e7f-3b8e-4fc4-bdbe-2e594d70c7f4\n",
      "\n",
      "View all tests for Dataset prompt_enhance_example at:\n",
      "https://smith.langchain.com/o/b0bf207d-6152-41bc-8620-1d01b85129e7/datasets/78467282-9224-4cbb-a5d5-ec569626e546\n",
      "[------------------------------------------------->] 2/2\n"
     ]
    }
   ],
   "source": [
    "# 2-4. dataset 에 추가한 뉴스 기사(example)에 뉴스 요약 chain 적용\n",
    "print(\"----- Run chain on new example\")\n",
    "res = client.run_on_dataset(\n",
    "    dataset_name=project_name,\n",
    "    llm_or_chain_factory=summary_chain,\n",
    ")\n",
    "# 2-5. run_id, 요약 결과 추출\n",
    "run_ids = [result[\"run_id\"] for result in res[\"results\"].values()]\n",
    "summary = [result[\"output\"] for result in res[\"results\"].values()]"
   ]
  },
  {
   "cell_type": "markdown",
   "id": "5d2878e9",
   "metadata": {},
   "source": [
    "* LangSmith에 Annotation queue를 생성\n",
    "* Annotation queue 는 LangSmith 플랫폼의 기능 중 하나로, 사람이 직접 데이터에 주석 또는 피드백을 남기는 방식으로 평가나 라벨링할 수 있게 도와주는 인터페이스\n"
   ]
  },
  {
   "cell_type": "code",
   "execution_count": 22,
   "id": "172f06af",
   "metadata": {},
   "outputs": [
    {
     "name": "stdout",
     "output_type": "stream",
     "text": [
      "\n",
      "----- Created new annotation queue: prompt_enhance_example\n",
      "----- Added runs to the annotation queue\n"
     ]
    }
   ],
   "source": [
    "# 2-6. 기존 annotation queue 검색, 없으면 새로 생성\n",
    "existing_queues = list(client.list_annotation_queues(name=project_name))\n",
    "if existing_queues:\n",
    "    # 이미 존재하는 queue 반환\n",
    "    q = existing_queues[0]\n",
    "    print(f\"\\n----- Using existing annotation queue: {q.name}\")\n",
    "else:\n",
    "    # 새로운 queue 생성\n",
    "    q = client.create_annotation_queue(name=project_name)\n",
    "    print(f\"\\n----- Created new annotation queue: {q.name}\")\n",
    "    \n",
    "# 2-7. feedback 받기 위해 run_on_dataset 결과를 annotation queue에 추가\n",
    "if example_uuid and res:\n",
    "    try:\n",
    "        # run 결과를 annotation queue에 추가\n",
    "        client.add_runs_to_annotation_queue(queue_id=q.id, run_ids=run_ids)\n",
    "        print(f\"----- Added runs to the annotation queue\")\n",
    "    except Exception as e:\n",
    "        print(f\"----- Failed to add runs to the annotation queue: {e}\")\n",
    "else:\n",
    "    print(\"----- No results to add to the annotation queue\")"
   ]
  },
  {
   "cell_type": "markdown",
   "id": "1c0d1e11",
   "metadata": {},
   "source": [
    "### 2. LangSmith에서 피드백 하기 (PPT 강의자료 참조) "
   ]
  },
  {
   "cell_type": "markdown",
   "id": "9374041d",
   "metadata": {},
   "source": [
    "* https://smith.langchain.com/ 이동\n",
    "* LangSmith에 Annotation queue 에서 뉴스 요약 결과에 대해서 평가 및 피드백 기능을 활용함"
   ]
  },
  {
   "cell_type": "markdown",
   "id": "9713e14d",
   "metadata": {},
   "source": [
    "### 3. 프롬프트 개선"
   ]
  },
  {
   "cell_type": "markdown",
   "id": "d72f2bef",
   "metadata": {},
   "source": [
    "* LangSmith에서 평가에 사용한 변수명에 해당하는 값을 가져옴\n",
    "* 가져온 피드백을 XML 형식으로 변환 \n",
    "* 출력된 내용은 LangSmith에서 읽어온 llm의 실행 id (run_id)와 피드백 내용을 나타냄"
   ]
  },
  {
   "cell_type": "code",
   "execution_count": 23,
   "id": "533dd291",
   "metadata": {},
   "outputs": [
    {
     "name": "stdout",
     "output_type": "stream",
     "text": [
      "Getting feedbacks -------------------------------------------------\n",
      "Parsing feedbacks -------------------------------------------------\n",
      "new_feedbacks = {'07d4272b-edd5-4bb2-a263-6ed819795eb1': {'correctness': 0.0, 'score': 1.0, 'comment': '서론, 본론, 결론으로 나누어서 요약해줘'}}\n",
      "feedback_xml = <feedback>\n",
      "            <correctness>0.0</correctness>\n",
      "            <score>1.0/5.0</score>\n",
      "            <comment>서론, 본론, 결론으로 나누어서 요약해줘</comment>\n",
      "            </feedback>\n",
      "\n",
      "\n"
     ]
    }
   ],
   "source": [
    "def combine_feedback_by_run_id(feedback_list):\n",
    "    new_feedbacks = {}\n",
    "    for item in feedback_list:\n",
    "        run_id = str(item.run_id)\n",
    "        if run_id in new_feedbacks:\n",
    "            selected_feedback = new_feedbacks[run_id]\n",
    "        else:\n",
    "            selected_feedback = {\"correctness\": 0, \"score\": 0, \"comment\": \"\"}\n",
    "            new_feedbacks[run_id] = selected_feedback\n",
    "\n",
    "        key = item.key\n",
    "        if key == \"correctness\":\n",
    "            selected_feedback[\"correctness\"] = item.score\n",
    "        elif key == \"score\":\n",
    "            selected_feedback[\"score\"] = item.score\n",
    "        elif key == \"note\":\n",
    "            selected_feedback[\"comment\"] = item.comment\n",
    "\n",
    "    print(f\"new_feedbacks = {new_feedbacks}\")\n",
    "\n",
    "    # XML 형식으로 변환\n",
    "    result = []\n",
    "    for _key, value in new_feedbacks.items():\n",
    "        feedback_xml = f\"\"\"<feedback>\n",
    "            <correctness>{value['correctness']}</correctness>\n",
    "            <score>{value['score']}/5.0</score>\n",
    "            <comment>{value['comment']}</comment>\n",
    "            </feedback>\"\"\"\n",
    "        result.append(feedback_xml)\n",
    "        print(f\"feedback_xml = {feedback_xml}\\n\\n\")\n",
    "\n",
    "    return result\n",
    "    \n",
    "#############################################################################\n",
    "# 3. 프롬프트 최적화(optimization) 단계\n",
    "# annotation queue 에서 feedback 추출 -> 피드백을 바탕으로 프롬프트 최적화\n",
    "#############################################################################\n",
    "# 3-1. 피드백을 가져와서 텍스트로 변환\n",
    "print(\"Getting feedbacks -------------------------------------------------\")\n",
    "res = client.list_feedback(run_ids=run_ids)\n",
    "print(\"Parsing feedbacks -------------------------------------------------\")\n",
    "feedback_list = combine_feedback_by_run_id(res)"
   ]
  },
  {
   "cell_type": "markdown",
   "id": "526580f2",
   "metadata": {},
   "source": [
    "* 개선된 Prompt의 Instruction 부분\n",
    "* prompt optimizer용 prompt, llm 으로 구성된 chain에 의해 “개선 전 instruction”과 “langsmith에서 한 피드백“을 입력으로 받아 llm이 개선된 instruction을 생성하였음\n",
    "* “요약문” 부분에서 피드백인＂서론, 본론, 결론 구조로 요약 해줘＂가 반영된 것을 볼 수 있음"
   ]
  },
  {
   "cell_type": "code",
   "execution_count": 24,
   "id": "5982b899",
   "metadata": {
    "collapsed": true
   },
   "outputs": [
    {
     "name": "stdout",
     "output_type": "stream",
     "text": [
      "Optimize prompt -------------------------------------------------\n",
      "Optimized = \n",
      "<newprompt>\n",
      "당신의 임무는 주어진 뉴스 텍스트(news_text)에서 정확하게 다음 항목들을 한국어로 추출하는 것입니다:\n",
      "1. **기사 제목(Title)**: 가장 핵심적인 내용을 담은 제목을 정확히 작성해주세요.\n",
      "2. **작성자(Author)**: 기사를 작성한 사람의 이름을 기입하세요.\n",
      "3. **작성일자(Date)**: 기사가 발행된 날짜를 정확히 기재해주세요.\n",
      "4. **요약문(Summary)**: 뉴스의 핵심 내용을 서론, 본론, 결론의 구조로 나누어 간결하게 작성해주세요. 각 부분은 다음과 같이 구분해주세요:\n",
      "   - **서론**: 주요 이슈나 사건 소개\n",
      "   - **본론**: 주요 세부 사항과 관련 정보\n",
      "   - **결론**: 주요 시사점이나 전망\n",
      "\n",
      "추측된 내용은 생성하지 마시고, 뉴스와 직접적으로 관련된 정보만을 포함시켜 주세요.\n",
      "</newprompt>\n",
      "\n"
     ]
    }
   ],
   "source": [
    "# 3-2. 현재 프롬프트, 기사 원문, 요약 결과, 피드백 데이터를 사용해서\n",
    "#   프롬프트 최적화 chain 실행\n",
    "optimizer = optimizer_prompt | optimizer_llm | StrOutputParser()\n",
    "print(\"Optimize prompt -------------------------------------------------\")\n",
    "optimized = optimizer.invoke(\n",
    "    {\n",
    "        \"instruction\": instruction,\n",
    "        \"human_feedback\": \"\\n\\n\".join(feedback_list),\n",
    "    }\n",
    ")\n",
    "print(f\"Optimized = \\n{optimized}\\n\")"
   ]
  },
  {
   "cell_type": "markdown",
   "id": "79e64a41",
   "metadata": {},
   "source": [
    "#### 프롬프트 개선 전 요약문"
   ]
  },
  {
   "cell_type": "code",
   "execution_count": 43,
   "id": "bcc0b0f5",
   "metadata": {},
   "outputs": [
    {
     "name": "stdout",
     "output_type": "stream",
     "text": [
      "기사 요약 결과입니다.\n",
      "\n",
      "<news>\n",
      "  <title>구글의 연이은 검색 알고리즘 업데이트...예전과 달라질 인터넷 세상</title>\n",
      "  <author>토마스 저메인, BBC News</author>\n",
      "  <date>2024년 5월 28일</date>\n",
      "  <summary>구글은 지난 2년 동안 검색 기능을 여러 번 업데이트했다. 이 업데이트로 인해 인터넷 상의 콘텐츠가 크게 달라졌고, 구글이 웹 세계를 구할 수 있는지 파괴할 수 있는지에 대한 논쟁이 일어나고 있다.</summary>\n",
      "</news>\n"
     ]
    }
   ],
   "source": [
    "print(summary[0])"
   ]
  },
  {
   "cell_type": "markdown",
   "id": "1d32f5e9",
   "metadata": {},
   "source": [
    "#### 프롬프트 개선 후 요약문"
   ]
  },
  {
   "cell_type": "code",
   "execution_count": 42,
   "id": "706841e4",
   "metadata": {},
   "outputs": [
    {
     "name": "stdout",
     "output_type": "stream",
     "text": [
      "<news>\n",
      "  <title>구글의 연이은 검색 알고리즘 업데이트...예전과 달라질 인터넷 세상</title>\n",
      "  <author>토마스 저메인, BBC News</author>\n",
      "  <date>2024년 5월 28일</date>\n",
      "  <summary>\n",
      "    <p>서론: 구글은 최근 몇 차례 검색 기능을 업데이트했다. 이 업데이트로 인해 인터넷 상의 강력한 도구가 전례 없는 인공지능(AI) 기능을 갖추게 되었다.</p>\n",
      "    <p>본론: 하우스프레시.com이라는 웹사이트는 공기청정기 리뷰를 제공하는 사이트이다. 지젤 나바로와 남편이 시작한 이 사이트는 과학적 실험을 통해 소비자들이 자신에게 맞는 공기청정기를 찾을 수 있도록 돕는다. 그러나 구글의 검색 알고리즘 업데이트로 인해 하우스프레시.com은 사업을 초토화당했다.</p>\n",
      "    <p>결론: 이 사건은 구글이 추구하는 독립적인 콘텐츠 창작자들의 역할과 인터넷 상의 변화에 대한 시사점을 제공한다. 또한, 구글의 검색 알고리즘 업데이트가 소비자와 기업 모두에게 미치는 영향을 고민해야 할 필요성이 있다.</p>\n",
      "  </summary>\n",
      "</news>\n"
     ]
    }
   ],
   "source": [
    "new_summary = summary_chain.invoke({\"news\":news.page_content[:1000], \"instruction\":optimized})\n",
    "print(new_summary)"
   ]
  },
  {
   "cell_type": "markdown",
   "id": "eb402113",
   "metadata": {},
   "source": [
    "# 실습 문제: 직접 LangSmith를 활용해 뉴스 요약 프롬프트를 개선해보자"
   ]
  },
  {
   "cell_type": "markdown",
   "id": "64411961",
   "metadata": {},
   "source": [
    "* 프롬프트 개선 코드의 뉴스 링크를 https://www.bbc.com/korean/articles/cjqe104j8l0o 로 변경하여 요약하고, langsmith에서 직접 피드백하여 프롬프트를 개선시켜 보자. \n",
    "* (피드백: “핵심 문장을 번호를 붙여서 나열해줘”)"
   ]
  },
  {
   "cell_type": "markdown",
   "id": "58e0bc0b",
   "metadata": {},
   "source": [
    "### 1. 뉴스 요약하기"
   ]
  },
  {
   "cell_type": "code",
   "execution_count": 25,
   "id": "6506392e",
   "metadata": {},
   "outputs": [],
   "source": [
    "# 1-2. 테스트 대상이 되는 뉴스 URLs (변경된 부분)\n",
    "news_urls = [\n",
    "    \"\"\"https://www.bbc.com/korean/articles/cjqe104j8l0o\"\"\",  # 예시링크, 원하는 링크로 변경 가능\n",
    "]"
   ]
  },
  {
   "cell_type": "code",
   "execution_count": 26,
   "id": "cd9fe625",
   "metadata": {},
   "outputs": [
    {
     "name": "stdout",
     "output_type": "stream",
     "text": [
      "----- New dataset created: name='prompt_enhance_example2' description=None data_type=<DataType.kv: 'kv'> id=UUID('56e3e8cd-6e4d-4904-b950-ba63c45b5533') created_at=datetime.datetime(2025, 8, 17, 8, 45, 17, 756217, tzinfo=datetime.timezone.utc) modified_at=datetime.datetime(2025, 8, 17, 8, 45, 17, 756217, tzinfo=datetime.timezone.utc) example_count=0 session_count=0 last_session_start_time=None inputs_schema=None outputs_schema=None transformations=None\n",
      "----- Added new examples successfully (bbf419d2-abe7-471b-880b-d5a61b08f687)\n",
      "----- Run chain on new example\n",
      "View the evaluation results for project 'flowery-pencil-5' at:\n",
      "https://smith.langchain.com/o/b0bf207d-6152-41bc-8620-1d01b85129e7/datasets/56e3e8cd-6e4d-4904-b950-ba63c45b5533/compare?selectedSessions=312906d9-81de-4e97-aca7-897ff66401db\n",
      "\n",
      "View all tests for Dataset prompt_enhance_example2 at:\n",
      "https://smith.langchain.com/o/b0bf207d-6152-41bc-8620-1d01b85129e7/datasets/56e3e8cd-6e4d-4904-b950-ba63c45b5533\n",
      "[------------------------------------------------->] 1/1\n"
     ]
    },
    {
     "ename": "KeyboardInterrupt",
     "evalue": "",
     "output_type": "error",
     "traceback": [
      "\u001b[1;31m---------------------------------------------------------------------------\u001b[0m",
      "\u001b[1;31mKeyboardInterrupt\u001b[0m                         Traceback (most recent call last)",
      "Cell \u001b[1;32mIn[26], line 110\u001b[0m\n\u001b[0;32m    108\u001b[0m \u001b[38;5;66;03m# 2-4. dataset 에 추가한 뉴스 기사(example)에 뉴스 요약 chain 적용\u001b[39;00m\n\u001b[0;32m    109\u001b[0m \u001b[38;5;28mprint\u001b[39m(\u001b[38;5;124m\"\u001b[39m\u001b[38;5;124m----- Run chain on new example\u001b[39m\u001b[38;5;124m\"\u001b[39m)\n\u001b[1;32m--> 110\u001b[0m res \u001b[38;5;241m=\u001b[39m \u001b[43mclient\u001b[49m\u001b[38;5;241;43m.\u001b[39;49m\u001b[43mrun_on_dataset\u001b[49m\u001b[43m(\u001b[49m\n\u001b[0;32m    111\u001b[0m \u001b[43m    \u001b[49m\u001b[43mdataset_name\u001b[49m\u001b[38;5;241;43m=\u001b[39;49m\u001b[43mproject_name\u001b[49m\u001b[43m,\u001b[49m\n\u001b[0;32m    112\u001b[0m \u001b[43m    \u001b[49m\u001b[43mllm_or_chain_factory\u001b[49m\u001b[38;5;241;43m=\u001b[39;49m\u001b[43msummary_chain\u001b[49m\u001b[43m,\u001b[49m\n\u001b[0;32m    113\u001b[0m \u001b[43m)\u001b[49m\n\u001b[0;32m    114\u001b[0m \u001b[38;5;66;03m# 2-5. run_id, 요약 결과 추출\u001b[39;00m\n\u001b[0;32m    115\u001b[0m run_ids \u001b[38;5;241m=\u001b[39m [result[\u001b[38;5;124m\"\u001b[39m\u001b[38;5;124mrun_id\u001b[39m\u001b[38;5;124m\"\u001b[39m] \u001b[38;5;28;01mfor\u001b[39;00m result \u001b[38;5;129;01min\u001b[39;00m res[\u001b[38;5;124m\"\u001b[39m\u001b[38;5;124mresults\u001b[39m\u001b[38;5;124m\"\u001b[39m]\u001b[38;5;241m.\u001b[39mvalues()]\n",
      "File \u001b[1;32m~\\anaconda3\\envs\\llm_agent\\lib\\site-packages\\langsmith\\client.py:6783\u001b[0m, in \u001b[0;36mClient.run_on_dataset\u001b[1;34m(self, dataset_name, llm_or_chain_factory, evaluation, concurrency_level, project_name, project_metadata, dataset_version, verbose, input_mapper, revision_id, **kwargs)\u001b[0m\n\u001b[0;32m   6778\u001b[0m \u001b[38;5;28;01mexcept\u001b[39;00m \u001b[38;5;167;01mImportError\u001b[39;00m:\n\u001b[0;32m   6779\u001b[0m     \u001b[38;5;28;01mraise\u001b[39;00m \u001b[38;5;167;01mImportError\u001b[39;00m(\n\u001b[0;32m   6780\u001b[0m         \u001b[38;5;124m\"\u001b[39m\u001b[38;5;124mThe client.run_on_dataset function requires the langchain\u001b[39m\u001b[38;5;124m\"\u001b[39m\n\u001b[0;32m   6781\u001b[0m         \u001b[38;5;124m\"\u001b[39m\u001b[38;5;124mpackage to run.\u001b[39m\u001b[38;5;130;01m\\n\u001b[39;00m\u001b[38;5;124mInstall with pip install langchain\u001b[39m\u001b[38;5;124m\"\u001b[39m\n\u001b[0;32m   6782\u001b[0m     )\n\u001b[1;32m-> 6783\u001b[0m \u001b[38;5;28;01mreturn\u001b[39;00m _run_on_dataset(\n\u001b[0;32m   6784\u001b[0m     dataset_name\u001b[38;5;241m=\u001b[39mdataset_name,\n\u001b[0;32m   6785\u001b[0m     llm_or_chain_factory\u001b[38;5;241m=\u001b[39mllm_or_chain_factory,\n\u001b[0;32m   6786\u001b[0m     concurrency_level\u001b[38;5;241m=\u001b[39mconcurrency_level,\n\u001b[0;32m   6787\u001b[0m     client\u001b[38;5;241m=\u001b[39m\u001b[38;5;28mself\u001b[39m,\n\u001b[0;32m   6788\u001b[0m     evaluation\u001b[38;5;241m=\u001b[39mevaluation,\n\u001b[0;32m   6789\u001b[0m     project_name\u001b[38;5;241m=\u001b[39mproject_name,\n\u001b[0;32m   6790\u001b[0m     project_metadata\u001b[38;5;241m=\u001b[39mproject_metadata,\n\u001b[0;32m   6791\u001b[0m     verbose\u001b[38;5;241m=\u001b[39mverbose,\n\u001b[0;32m   6792\u001b[0m     input_mapper\u001b[38;5;241m=\u001b[39minput_mapper,\n\u001b[0;32m   6793\u001b[0m     revision_id\u001b[38;5;241m=\u001b[39mrevision_id,\n\u001b[0;32m   6794\u001b[0m     dataset_version\u001b[38;5;241m=\u001b[39mdataset_version,\n\u001b[0;32m   6795\u001b[0m     \u001b[38;5;241m*\u001b[39m\u001b[38;5;241m*\u001b[39mkwargs,\n\u001b[0;32m   6796\u001b[0m )\n",
      "File \u001b[1;32m~\\anaconda3\\envs\\llm_agent\\lib\\site-packages\\langchain\\smith\\evaluation\\runner_utils.py:1446\u001b[0m, in \u001b[0;36mrun_on_dataset\u001b[1;34m(client, dataset_name, llm_or_chain_factory, evaluation, dataset_version, concurrency_level, project_name, project_metadata, verbose, revision_id, **kwargs)\u001b[0m\n\u001b[0;32m   1444\u001b[0m \u001b[38;5;28;01melse\u001b[39;00m:\n\u001b[0;32m   1445\u001b[0m     \u001b[38;5;28;01mwith\u001b[39;00m runnable_config\u001b[38;5;241m.\u001b[39mget_executor_for_config(container\u001b[38;5;241m.\u001b[39mconfigs[\u001b[38;5;241m0\u001b[39m]) \u001b[38;5;28;01mas\u001b[39;00m executor:\n\u001b[1;32m-> 1446\u001b[0m         batch_results \u001b[38;5;241m=\u001b[39m \u001b[38;5;28;43mlist\u001b[39;49m\u001b[43m(\u001b[49m\n\u001b[0;32m   1447\u001b[0m \u001b[43m            \u001b[49m\u001b[43mexecutor\u001b[49m\u001b[38;5;241;43m.\u001b[39;49m\u001b[43mmap\u001b[49m\u001b[43m(\u001b[49m\n\u001b[0;32m   1448\u001b[0m \u001b[43m                \u001b[49m\u001b[43mfunctools\u001b[49m\u001b[38;5;241;43m.\u001b[39;49m\u001b[43mpartial\u001b[49m\u001b[43m(\u001b[49m\n\u001b[0;32m   1449\u001b[0m \u001b[43m                    \u001b[49m\u001b[43m_run_llm_or_chain\u001b[49m\u001b[43m,\u001b[49m\n\u001b[0;32m   1450\u001b[0m \u001b[43m                    \u001b[49m\u001b[43mllm_or_chain_factory\u001b[49m\u001b[38;5;241;43m=\u001b[39;49m\u001b[43mcontainer\u001b[49m\u001b[38;5;241;43m.\u001b[39;49m\u001b[43mwrapped_model\u001b[49m\u001b[43m,\u001b[49m\n\u001b[0;32m   1451\u001b[0m \u001b[43m                    \u001b[49m\u001b[43minput_mapper\u001b[49m\u001b[38;5;241;43m=\u001b[39;49m\u001b[43minput_mapper\u001b[49m\u001b[43m,\u001b[49m\n\u001b[0;32m   1452\u001b[0m \u001b[43m                \u001b[49m\u001b[43m)\u001b[49m\u001b[43m,\u001b[49m\n\u001b[0;32m   1453\u001b[0m \u001b[43m                \u001b[49m\u001b[43mcontainer\u001b[49m\u001b[38;5;241;43m.\u001b[39;49m\u001b[43mexamples\u001b[49m\u001b[43m,\u001b[49m\n\u001b[0;32m   1454\u001b[0m \u001b[43m                \u001b[49m\u001b[43mcontainer\u001b[49m\u001b[38;5;241;43m.\u001b[39;49m\u001b[43mconfigs\u001b[49m\u001b[43m,\u001b[49m\n\u001b[0;32m   1455\u001b[0m \u001b[43m            \u001b[49m\u001b[43m)\u001b[49m\u001b[43m,\u001b[49m\n\u001b[0;32m   1456\u001b[0m \u001b[43m        \u001b[49m\u001b[43m)\u001b[49m\n\u001b[0;32m   1458\u001b[0m \u001b[38;5;28;01mreturn\u001b[39;00m container\u001b[38;5;241m.\u001b[39mfinish(batch_results, verbose\u001b[38;5;241m=\u001b[39mverbose)\n",
      "File \u001b[1;32m~\\anaconda3\\envs\\llm_agent\\lib\\concurrent\\futures\\_base.py:621\u001b[0m, in \u001b[0;36mExecutor.map.<locals>.result_iterator\u001b[1;34m()\u001b[0m\n\u001b[0;32m    618\u001b[0m \u001b[38;5;28;01mwhile\u001b[39;00m fs:\n\u001b[0;32m    619\u001b[0m     \u001b[38;5;66;03m# Careful not to keep a reference to the popped future\u001b[39;00m\n\u001b[0;32m    620\u001b[0m     \u001b[38;5;28;01mif\u001b[39;00m timeout \u001b[38;5;129;01mis\u001b[39;00m \u001b[38;5;28;01mNone\u001b[39;00m:\n\u001b[1;32m--> 621\u001b[0m         \u001b[38;5;28;01myield\u001b[39;00m \u001b[43m_result_or_cancel\u001b[49m\u001b[43m(\u001b[49m\u001b[43mfs\u001b[49m\u001b[38;5;241;43m.\u001b[39;49m\u001b[43mpop\u001b[49m\u001b[43m(\u001b[49m\u001b[43m)\u001b[49m\u001b[43m)\u001b[49m\n\u001b[0;32m    622\u001b[0m     \u001b[38;5;28;01melse\u001b[39;00m:\n\u001b[0;32m    623\u001b[0m         \u001b[38;5;28;01myield\u001b[39;00m _result_or_cancel(fs\u001b[38;5;241m.\u001b[39mpop(), end_time \u001b[38;5;241m-\u001b[39m time\u001b[38;5;241m.\u001b[39mmonotonic())\n",
      "File \u001b[1;32m~\\anaconda3\\envs\\llm_agent\\lib\\concurrent\\futures\\_base.py:319\u001b[0m, in \u001b[0;36m_result_or_cancel\u001b[1;34m(***failed resolving arguments***)\u001b[0m\n\u001b[0;32m    317\u001b[0m \u001b[38;5;28;01mtry\u001b[39;00m:\n\u001b[0;32m    318\u001b[0m     \u001b[38;5;28;01mtry\u001b[39;00m:\n\u001b[1;32m--> 319\u001b[0m         \u001b[38;5;28;01mreturn\u001b[39;00m \u001b[43mfut\u001b[49m\u001b[38;5;241;43m.\u001b[39;49m\u001b[43mresult\u001b[49m\u001b[43m(\u001b[49m\u001b[43mtimeout\u001b[49m\u001b[43m)\u001b[49m\n\u001b[0;32m    320\u001b[0m     \u001b[38;5;28;01mfinally\u001b[39;00m:\n\u001b[0;32m    321\u001b[0m         fut\u001b[38;5;241m.\u001b[39mcancel()\n",
      "File \u001b[1;32m~\\anaconda3\\envs\\llm_agent\\lib\\concurrent\\futures\\_base.py:453\u001b[0m, in \u001b[0;36mFuture.result\u001b[1;34m(self, timeout)\u001b[0m\n\u001b[0;32m    450\u001b[0m \u001b[38;5;28;01melif\u001b[39;00m \u001b[38;5;28mself\u001b[39m\u001b[38;5;241m.\u001b[39m_state \u001b[38;5;241m==\u001b[39m FINISHED:\n\u001b[0;32m    451\u001b[0m     \u001b[38;5;28;01mreturn\u001b[39;00m \u001b[38;5;28mself\u001b[39m\u001b[38;5;241m.\u001b[39m__get_result()\n\u001b[1;32m--> 453\u001b[0m \u001b[38;5;28;43mself\u001b[39;49m\u001b[38;5;241;43m.\u001b[39;49m\u001b[43m_condition\u001b[49m\u001b[38;5;241;43m.\u001b[39;49m\u001b[43mwait\u001b[49m\u001b[43m(\u001b[49m\u001b[43mtimeout\u001b[49m\u001b[43m)\u001b[49m\n\u001b[0;32m    455\u001b[0m \u001b[38;5;28;01mif\u001b[39;00m \u001b[38;5;28mself\u001b[39m\u001b[38;5;241m.\u001b[39m_state \u001b[38;5;129;01min\u001b[39;00m [CANCELLED, CANCELLED_AND_NOTIFIED]:\n\u001b[0;32m    456\u001b[0m     \u001b[38;5;28;01mraise\u001b[39;00m CancelledError()\n",
      "File \u001b[1;32m~\\anaconda3\\envs\\llm_agent\\lib\\threading.py:320\u001b[0m, in \u001b[0;36mCondition.wait\u001b[1;34m(self, timeout)\u001b[0m\n\u001b[0;32m    318\u001b[0m \u001b[38;5;28;01mtry\u001b[39;00m:    \u001b[38;5;66;03m# restore state no matter what (e.g., KeyboardInterrupt)\u001b[39;00m\n\u001b[0;32m    319\u001b[0m     \u001b[38;5;28;01mif\u001b[39;00m timeout \u001b[38;5;129;01mis\u001b[39;00m \u001b[38;5;28;01mNone\u001b[39;00m:\n\u001b[1;32m--> 320\u001b[0m         \u001b[43mwaiter\u001b[49m\u001b[38;5;241;43m.\u001b[39;49m\u001b[43macquire\u001b[49m\u001b[43m(\u001b[49m\u001b[43m)\u001b[49m\n\u001b[0;32m    321\u001b[0m         gotit \u001b[38;5;241m=\u001b[39m \u001b[38;5;28;01mTrue\u001b[39;00m\n\u001b[0;32m    322\u001b[0m     \u001b[38;5;28;01melse\u001b[39;00m:\n",
      "\u001b[1;31mKeyboardInterrupt\u001b[0m: "
     ]
    }
   ],
   "source": [
    "import os\n",
    "import bs4\n",
    "import uuid\n",
    "from dotenv import load_dotenv\n",
    "from langchain_community.document_loaders import WebBaseLoader\n",
    "from langchain_community.llms import Ollama\n",
    "from langchain_core.prompts import PromptTemplate\n",
    "from langchain_core.output_parsers import StrOutputParser\n",
    "from langsmith import Client\n",
    "from langchain_community.llms import Ollama\n",
    "from langchain_ollama import ChatOllama\n",
    "\n",
    "load_dotenv()\n",
    "# 1-1. LangSmith project, dataset, annotation queue 이름으로 사용할 문자열\n",
    "project_name = \"prompt_enhance_example2\"\n",
    "\n",
    "# 1-3. langsmith client 생성\n",
    "client = Client()\n",
    "\n",
    "# 1-4. 뉴스 요약 PROMPT Template 생성\n",
    "instruction = \"\"\"당신의 임무는 주어진 뉴스(news_text)에서 기사제목(title), 작성자(author), \n",
    "작성일자(date), 요약문(summary) - 4가지 항목을 추출하는 것입니다.\n",
    "결과는 한국어로 작성해야합니다. 뉴스와 관련성이 높은 내용만 포함하고 추측된 내용을 생성하지 마세요.\n",
    "\"\"\"\n",
    "prompt = PromptTemplate.from_template(\n",
    "    \"\"\"당신은 뉴스 기사를 요약, 정리하는 AI 어시스턴트입니다. \n",
    "     {instruction}\n",
    "\n",
    "<news_text>\n",
    "{news}\n",
    "<news_text>\n",
    "\n",
    "요약된 결과는 아래 형식에 맞춰야합니다.\n",
    "<news>\n",
    "  <title></title>\n",
    "  <author></author>\n",
    "  <date></date>\n",
    "  <summary></summary>\n",
    "</news>\n",
    "\"\"\"\n",
    ")\n",
    "\n",
    "# 1-5. PROMPT 최적화용 Template 생성\n",
    "optimizer_prompt = PromptTemplate.from_template(\n",
    "    \"\"\"당신은 AI 프롬프트 전문가입니다. \n",
    "아래 뉴스 요약 프롬프트(<prompt>)가 있습니다.\n",
    "<prompt>\n",
    "{instruction}\n",
    "</prompt>\n",
    "\n",
    "그리고 결과의 만족도를 평가한 피드백(<feedbacks>)이 주어집니다.\n",
    "<feedbacks>\n",
    "{human_feedback}\n",
    "</feedbacks>\n",
    "\n",
    "당신은 이 피드백을 참고해서 기존의 프롬프트(<prompt>)를 개선해야 합니다.\n",
    "개선된 프롬프트는 <newprompt></newprompt> 태그 사이에 넣어주세요.\n",
    "\"\"\"\n",
    ")\n",
    "\n",
    "# 1-5. 뉴스 스크래핑 (Document Loading)\n",
    "loader = WebBaseLoader(\n",
    "    web_paths=(news_urls),\n",
    "    bs_kwargs=dict(\n",
    "        parse_only=bs4.SoupStrainer(\n",
    "            \"div\",\n",
    "            attrs={\"class\": [\"bbc-1cvxiy9\", \"bbc-fa0wmp\"]},\n",
    "        )\n",
    "    ),\n",
    ")\n",
    "news_array = loader.load()\n",
    "\n",
    "# 1-6. 뉴스 원문을 저장할 dataset 생성 또는 가져오기\n",
    "try:\n",
    "    ds = client.create_dataset(dataset_name=project_name)\n",
    "    print(f\"----- New dataset created: {ds}\")\n",
    "except Exception as e:\n",
    "    # 이미 존재하는 경우, 기존 dataset을 가져옵니다\n",
    "    existing_datasets = list(client.list_datasets(dataset_name=project_name))\n",
    "    if existing_datasets:\n",
    "        ds = existing_datasets[0]\n",
    "        print(f\"----- Using existing dataset: {ds}\")\n",
    "    else:\n",
    "        print(f\"----- Failed to create or retrieve dataset: {e}\")\n",
    "\n",
    "# 1-7. 사용할 LLM 초기화\n",
    "summary_llm = Ollama(model=\"llama3.1\", temperature=0)\n",
    "optimizer_llm = ChatOllama(model=\"exaone3.5:7.8b\")\n",
    "\n",
    "# 2-1. 중간중간 생성되는 데이터를 담는 변수 선언\n",
    "news = news_array[0]\n",
    "example_uuid = str(uuid.uuid4())\n",
    "\n",
    "# 2-2. 앞서 생성한 데이터셋에 example 추가\n",
    "try:\n",
    "    client.create_examples(\n",
    "        ids=[example_uuid],\n",
    "        inputs=[{\"news\": news.page_content[:1000], \"instruction\" : instruction}],\n",
    "        dataset_id=ds.id,\n",
    "    )\n",
    "    print(f\"----- Added new examples successfully ({example_uuid})\")\n",
    "except Exception as e:\n",
    "    print(f\"----- Failed to add example: {e}\")\n",
    "\n",
    "# 2-3. 프롬프트를 실행할 체인생성\n",
    "summary_chain = prompt | summary_llm | StrOutputParser()\n",
    "\n",
    "# 2-4. dataset 에 추가한 뉴스 기사(example)에 뉴스 요약 chain 적용\n",
    "print(\"----- Run chain on new example\")\n",
    "res = client.run_on_dataset(\n",
    "    dataset_name=project_name,\n",
    "    llm_or_chain_factory=summary_chain,\n",
    ")\n",
    "# 2-5. run_id, 요약 결과 추출\n",
    "run_ids = [result[\"run_id\"] for result in res[\"results\"].values()]\n",
    "summary = [result[\"output\"] for result in res[\"results\"].values()]\n",
    "\n",
    "# 2-6. 기존 annotation queue 검색, 없으면 새로 생성\n",
    "existing_queues = list(client.list_annotation_queues(name=project_name))\n",
    "if existing_queues:\n",
    "    # 이미 존재하는 queue 반환\n",
    "    q = existing_queues[0]\n",
    "    print(f\"\\n----- Using existing annotation queue: {q.name}\")\n",
    "else:\n",
    "    # 새로운 queue 생성\n",
    "    q = client.create_annotation_queue(name=project_name)\n",
    "    print(f\"\\n----- Created new annotation queue: {q.name}\")\n",
    "    \n",
    "# 2-7. feedback 받기 위해 run_on_dataset 결과를 annotation queue에 추가\n",
    "if example_uuid and res:\n",
    "    try:\n",
    "        # run 결과를 annotation queue에 추가\n",
    "        client.add_runs_to_annotation_queue(queue_id=q.id, run_ids=run_ids)\n",
    "        print(f\"----- Added runs to the annotation queue\")\n",
    "    except Exception as e:\n",
    "        print(f\"----- Failed to add runs to the annotation queue: {e}\")\n",
    "else:\n",
    "    print(\"----- No results to add to the annotation queue\")"
   ]
  },
  {
   "cell_type": "markdown",
   "id": "ae48076f",
   "metadata": {},
   "source": [
    "### 2. LangSmith에서 피드백 "
   ]
  },
  {
   "cell_type": "markdown",
   "id": "8b193079",
   "metadata": {},
   "source": [
    "* https://smith.langchain.com/"
   ]
  },
  {
   "cell_type": "markdown",
   "id": "19bc2c47",
   "metadata": {},
   "source": [
    "### 3. 프롬프트 개선"
   ]
  },
  {
   "cell_type": "code",
   "execution_count": null,
   "id": "f5564d5d",
   "metadata": {},
   "outputs": [],
   "source": [
    "def combine_feedback_by_run_id(feedback_list):\n",
    "    new_feedbacks = {}\n",
    "    for item in feedback_list:\n",
    "        run_id = str(item.run_id)\n",
    "        if run_id in new_feedbacks:\n",
    "            selected_feedback = new_feedbacks[run_id]\n",
    "        else:\n",
    "            selected_feedback = {\"correctness\": 0, \"score\": 0, \"comment\": \"\"}\n",
    "            new_feedbacks[run_id] = selected_feedback\n",
    "\n",
    "        key = item.key\n",
    "        if key == \"correctness\":\n",
    "            selected_feedback[\"correctness\"] = item.score\n",
    "        elif key == \"score\":\n",
    "            selected_feedback[\"score\"] = item.score\n",
    "        elif key == \"note\":\n",
    "            selected_feedback[\"comment\"] = item.comment\n",
    "\n",
    "    print(f\"new_feedbacks = {new_feedbacks}\")\n",
    "\n",
    "    # XML 형식으로 변환\n",
    "    result = []\n",
    "    for _key, value in new_feedbacks.items():\n",
    "        feedback_xml = f\"\"\"<feedback>\n",
    "            <correctness>{value['correctness']}</correctness>\n",
    "            <score>{value['score']}/5.0</score>\n",
    "            <comment>{value['comment']}</comment>\n",
    "            </feedback>\"\"\"\n",
    "        result.append(feedback_xml)\n",
    "        print(f\"feedback_xml = {feedback_xml}\\n\\n\")\n",
    "\n",
    "    return result\n",
    "    \n",
    "#############################################################################\n",
    "# 3. 프롬프트 최적화(optimization) 단계\n",
    "# annotation queue 에서 feedback 추출 -> 피드백을 바탕으로 프롬프트 최적화\n",
    "#############################################################################\n",
    "# 3-1. 피드백을 가져와서 텍스트로 변환\n",
    "print(\"Getting feedbacks -------------------------------------------------\")\n",
    "res = client.list_feedback(run_ids=run_ids)\n",
    "print(\"Parsing feedbacks -------------------------------------------------\")\n",
    "feedback_list = combine_feedback_by_run_id(res)"
   ]
  },
  {
   "cell_type": "code",
   "execution_count": null,
   "id": "24063ee4",
   "metadata": {},
   "outputs": [],
   "source": [
    "# 3-2. 현재 프롬프트, 기사 원문, 요약 결과, 피드백 데이터를 사용해서\n",
    "#   프롬프트 최적화 chain 실행\n",
    "optimizer = optimizer_prompt | optimizer_llm | StrOutputParser()\n",
    "print(\"Optimize prompt -------------------------------------------------\")\n",
    "optimized = optimizer.invoke(\n",
    "    {\n",
    "        \"instruction\": instruction,\n",
    "        \"human_feedback\": \"\\n\\n\".join(feedback_list),\n",
    "    }\n",
    ")\n",
    "print(f\"Optimized = \\n{optimized}\\n\")"
   ]
  },
  {
   "cell_type": "code",
   "execution_count": null,
   "id": "8d459eee",
   "metadata": {},
   "outputs": [],
   "source": [
    "new_summary = summary_chain.invoke({\"news\":news.page_content[:1000], \"instruction\":optimized})\n",
    "print(new_summary)"
   ]
  }
 ],
 "metadata": {
  "kernelspec": {
   "display_name": "LG_LLM",
   "language": "python",
   "name": "python3"
  },
  "language_info": {
   "codemirror_mode": {
    "name": "ipython",
    "version": 3
   },
   "file_extension": ".py",
   "mimetype": "text/x-python",
   "name": "python",
   "nbconvert_exporter": "python",
   "pygments_lexer": "ipython3",
   "version": "3.10.18"
  }
 },
 "nbformat": 4,
 "nbformat_minor": 5
}
