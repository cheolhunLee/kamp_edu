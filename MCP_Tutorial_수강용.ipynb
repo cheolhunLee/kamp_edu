{
 "cells": [
  {
   "cell_type": "markdown",
   "id": "e917f842-e576-48eb-84ed-cdff8fcb23b2",
   "metadata": {},
   "source": [
    "# FastMCP 클라이언트 튜토리얼 \n",
    "\n",
    "## 개요\n",
    "\n",
    "이 튜토리얼은 FastMCP(Model Context Protocol) 클라이언트를 사용하여 MCP 서버와 통신하는 방법을 단계별로 설명합니다. MCP는 AI 모델이 외부 도구와 리소스에 접근할 수 있게 해주는 표준 프로토콜입니다.\n",
    "\n",
    "우리가 구현한 서버는 다음 기능을 제공합니다:\n",
    "- **리소스**: 현재 디렉토리의 파일 목록 조회\n",
    "- **도구**: 간단한 계산기와 스크린샷 촬영 기능"
   ]
  },
  {
   "cell_type": "markdown",
   "id": "c9484685-4eff-4ec5-a60a-fe57245680aa",
   "metadata": {},
   "source": [
    "## 2. 기본 라이브러리 Import\n",
    "### Import 설명\n",
    "- `asyncio`: 비동기 통신을 위한 Python 표준 라이브러리\n",
    "- `MultiServerMCPClient`: 여러 MCP 서버와 동시 연결 가능한 클라이언트\n",
    "- `json`: 서버 응답 데이터 파싱용\n",
    "- `base64`: 이미지 데이터 디코딩용\n",
    "- `cv2`, `PIL`, `numpy`: 이미지 처리 및 표시용"
   ]
  },
  {
   "cell_type": "code",
   "execution_count": 1,
   "id": "fcd7750c-b93f-4df0-a931-3199d1667dc2",
   "metadata": {},
   "outputs": [],
   "source": [
    "import asyncio\n",
    "from langchain_mcp_adapters.client import MultiServerMCPClient\n",
    "import json\n",
    "import base64\n",
    "import cv2\n",
    "import numpy as np\n",
    "from PIL import Image\n",
    "import io"
   ]
  },
  {
   "cell_type": "markdown",
   "id": "0bc8e9d6-ff2a-4f94-baf0-af66a589f91d",
   "metadata": {},
   "source": [
    "## 3. MCP 서버 연결 설정\n",
    "### 연결 방식 설명\n",
    "- **SSE (Server-Sent Events)**: 실시간 단방향 통신 방식\n",
    "- **비동기 연결**: `await`를 사용하여 논블로킹 방식으로 처리\n",
    "- **안정화 대기**: 네트워크 지연을 고려한 2초 대기"
   ]
  },
  {
   "cell_type": "code",
   "execution_count": null,
   "id": "9c59dc5a-035a-4afb-994b-afaf09447787",
   "metadata": {},
   "outputs": [
    {
     "name": "stdout",
     "output_type": "stream",
     "text": [
      "MCP 서버에 연결됨\n"
     ]
    },
    {
     "name": "stderr",
     "output_type": "stream",
     "text": [
      "Error in sse_reader: \n"
     ]
    }
   ],
   "source": [
    "async def connect_to_server():\n",
    "    \"\"\"MCP 서버에 연결\"\"\"\n",
    "    server_name = \"desktop_server\"\n",
    "    \n",
    "    client = MultiServerMCPClient({\n",
    "        server_name: {\n",
    "            \"url\": \"http://localhost:8006/sse\",\n",
    "            \"transport\": \"sse\",\n",
    "        }\n",
    "    })\n",
    "    \n",
    "    await client.__aenter__()\n",
    "    print(\"MCP 서버에 연결됨\")\n",
    "    \n",
    "    # 연결 안정화 대기\n",
    "    await asyncio.sleep(2)\n",
    "    \n",
    "    return client, server_name\n",
    "\n",
    "# 실행\n",
    "client, server_name = await connect_to_server()"
   ]
  },
  {
   "cell_type": "markdown",
   "id": "e62d6469-e842-4e67-a068-f8899721d4f1",
   "metadata": {},
   "source": [
    "## 4. 현재 디렉토리 리소스 확인\n",
    "### 리소스 개념 설명\n",
    "- **리소스**: 서버가 제공하는 읽기 전용 데이터 (파일, 설정 등)\n",
    "- **URI 스키마**: `dir://current`는 현재 디렉토리를 의미하는 커스텀 URI\n",
    "- **JSON 응답**: 구조화된 데이터로 파일 경로와 목록 정보 포함"
   ]
  },
  {
   "cell_type": "code",
   "execution_count": 3,
   "id": "aea529ac-2450-460e-aac5-0ff052af9900",
   "metadata": {},
   "outputs": [
    {
     "name": "stdout",
     "output_type": "stream",
     "text": [
      "=== 현재 디렉토리 리소스 ===\n",
      "경로: C:\\workspace\\KAMP_로컬LLM\n",
      "파일 개수: 32개\n",
      "파일 목록:\n",
      "  1. C:\\workspace\\KAMP_로컬LLM\\.ipynb_checkpoints\n",
      "  2. C:\\workspace\\KAMP_로컬LLM\\Agent_example_수강용.ipynb\n",
      "  3. C:\\workspace\\KAMP_로컬LLM\\datasets\n",
      "  4. C:\\workspace\\KAMP_로컬LLM\\deepseek-coder-v2_example_수강용.ipynb\n",
      "  5. C:\\workspace\\KAMP_로컬LLM\\Deepseek-R1-Distill-Llama-8b_DoRA_alpaca_50\n",
      "  6. C:\\workspace\\KAMP_로컬LLM\\Deepseek-R1-Distill-Llama-8b_LoRA_alpace_50\n",
      "  7. C:\\workspace\\KAMP_로컬LLM\\document\n",
      "  8. C:\\workspace\\KAMP_로컬LLM\\document_실습용\n",
      "  9. C:\\workspace\\KAMP_로컬LLM\\faiss_index\n",
      "  10. C:\\workspace\\KAMP_로컬LLM\\images\n",
      "  ... 및 22개 더\n"
     ]
    }
   ],
   "source": [
    "async def check_directory():\n",
    "    \"\"\"현재 디렉토리의 파일 목록 조회\"\"\"\n",
    "    print(\"=== 현재 디렉토리 리소스 ===\")\n",
    "    \n",
    "    current_resources = await client.get_resources(server_name, [\"dir://current\"])\n",
    "    if current_resources:\n",
    "        data = json.loads(current_resources[0].data)\n",
    "        print(f\"경로: {data['path']}\")\n",
    "        print(f\"파일 개수: {data['count']}개\")\n",
    "        print(\"파일 목록:\")\n",
    "        for i, file in enumerate(data['files'][:10], 1):  # 처음 10개만 표시\n",
    "            print(f\"  {i}. {file}\")\n",
    "        if data['count'] > 10:\n",
    "            print(f\"  ... 및 {data['count'] - 10}개 더\")\n",
    "    else:\n",
    "        print(\"현재 디렉토리 리소스를 찾을 수 없습니다\")\n",
    "\n",
    "# 실행\n",
    "await check_directory()"
   ]
  },
  {
   "cell_type": "markdown",
   "id": "d9c9b181-0dad-4a7e-86b4-3572ea8f513b",
   "metadata": {},
   "source": [
    "## 5. 사용 가능한 도구 확인\n",
    "### 도구(Tool) vs 리소스(Resource)\n",
    "- **도구(Tool)**: 실행 가능한 함수 (계산, 스크린샷 등)\n",
    "- **리소스(Resource)**: 정적 데이터 (파일 목록, 설정 등)\n",
    "- **동기 vs 비동기**: 도구 목록 조회는 동기, 실행은 비동기"
   ]
  },
  {
   "cell_type": "code",
   "execution_count": 4,
   "id": "e8619484-0818-4bb5-a72a-a6a64d9b075e",
   "metadata": {},
   "outputs": [
    {
     "name": "stdout",
     "output_type": "stream",
     "text": [
      "=== 사용 가능한 도구 ===\n",
      "총 2개의 도구가 있습니다:\n",
      "  1. add: Add two numbers\n",
      "  2. take_screenshot: Take a screenshot of the user's screen\n"
     ]
    }
   ],
   "source": [
    "def check_available_tools():\n",
    "    \"\"\"사용 가능한 도구 목록 확인\"\"\"\n",
    "    print(\"=== 사용 가능한 도구 ===\")\n",
    "    \n",
    "    tools = client.get_tools()\n",
    "    print(f\"총 {len(tools)}개의 도구가 있습니다:\")\n",
    "    \n",
    "    for i, tool in enumerate(tools, 1):\n",
    "        print(f\"  {i}. {tool.name}: {tool.description}\")\n",
    "    \n",
    "    return tools\n",
    "\n",
    "# 실행\n",
    "tools = check_available_tools()"
   ]
  },
  {
   "cell_type": "markdown",
   "id": "398a6d17-f67e-45da-9116-00a098520331",
   "metadata": {},
   "source": [
    "## 6. 덧셈 계산기 도구 테스트\n",
    "### 계산기 도구 상세 분석\n",
    "- **비동기 실행**: `await tool.coroutine()`로 도구 실행\n",
    "- **매개변수 전달**: 키워드 인자로 `a`, `b` 값 전달\n",
    "- **응답 형태**: 서버가 JSON 문자열을 튜플로 감싸서 반환"
   ]
  },
  {
   "cell_type": "code",
   "execution_count": 5,
   "id": "0cb32693-0be1-429c-ba07-55806488851d",
   "metadata": {},
   "outputs": [
    {
     "name": "stdout",
     "output_type": "stream",
     "text": [
      "=== 계산기 테스트: 10 + 5 ===\n",
      "결과: 10 + 5 = 15\n",
      "=== 계산기 테스트: 100 + 200 ===\n",
      "결과: 100 + 200 = 300\n"
     ]
    }
   ],
   "source": [
    "async def test_calculator(a=10, b=5):\n",
    "    \"\"\"덧셈 계산기 테스트\"\"\"\n",
    "    print(f\"=== 계산기 테스트: {a} + {b} ===\")\n",
    "    \n",
    "    add_tool = next((t for t in tools if t.name == \"add\"), None)\n",
    "    if add_tool:\n",
    "        add_result = await add_tool.coroutine(a=a, b=b)\n",
    "        \n",
    "        # 튜플 처리\n",
    "        if isinstance(add_result, tuple):\n",
    "            add_data = json.loads(add_result[0])\n",
    "        else:\n",
    "            add_data = json.loads(add_result)\n",
    "        \n",
    "        print(f\"결과: {add_data['operation']} = {add_data['result']}\")\n",
    "    else:\n",
    "        print(\"add 도구를 찾을 수 없습니다\")\n",
    "\n",
    "# 실행\n",
    "await test_calculator(10, 5)\n",
    "await test_calculator(100, 200)"
   ]
  },
  {
   "cell_type": "markdown",
   "id": "221910bc-6c11-47c9-8766-372ee5db2fe8",
   "metadata": {},
   "source": [
    "## 7. 스크린샷 촬영 및 표시\n",
    "### 스크린샷 처리 과정 상세 설명\n",
    "\n",
    "1. **서버 처리**: pyautogui로 화면 캡처 → JPEG 압축 → base64 인코딩\n",
    "2. **클라이언트 처리**: base64 디코딩 → PIL 이미지 → numpy 배열 → OpenCV 표시\n",
    "3. **색상 변환**: RGB (PIL) → BGR (OpenCV) 변환 필요\n",
    "4. **크기 조정**: 원본 비율 유지하면서 600x400 안에 맞춤\n",
    "5. **메모리 관리**: 이미지 처리 후 OpenCV 창 정리"
   ]
  },
  {
   "cell_type": "code",
   "execution_count": 6,
   "id": "f21942e8-c839-4abb-8b87-3addac104fde",
   "metadata": {},
   "outputs": [
    {
     "name": "stdout",
     "output_type": "stream",
     "text": [
      "=== 스크린샷 테스트 ===\n",
      "스크린샷 촬영 중...\n",
      "스크린샷 완료: 190519 bytes\n",
      "원본 크기: 1920x1080\n",
      "스크린샷이 표시되었습니다 (600x337)\n",
      "아무 키나 누르면 창이 닫힙니다\n"
     ]
    }
   ],
   "source": [
    "async def take_and_show_screenshot():\n",
    "    \"\"\"스크린샷 촬영 및 표시\"\"\"\n",
    "    print(\"=== 스크린샷 테스트 ===\")\n",
    "    \n",
    "    screenshot_tool = next((t for t in tools if t.name == \"take_screenshot\"), None)\n",
    "    if not screenshot_tool:\n",
    "        print(\"take_screenshot 도구를 찾을 수 없습니다\")\n",
    "        return\n",
    "    \n",
    "    print(\"스크린샷 촬영 중...\")\n",
    "    screenshot_result = await screenshot_tool.coroutine()\n",
    "    \n",
    "    # 튜플 처리\n",
    "    if isinstance(screenshot_result, tuple):\n",
    "        screenshot_data = json.loads(screenshot_result[0])\n",
    "    else:\n",
    "        screenshot_data = json.loads(screenshot_result)\n",
    "    \n",
    "    print(f\"스크린샷 완료: {screenshot_data['size_bytes']} bytes\")\n",
    "    \n",
    "    try:\n",
    "        # base64 디코딩\n",
    "        image_data = base64.b64decode(screenshot_data['image_base64'])\n",
    "        image = Image.open(io.BytesIO(image_data))\n",
    "        \n",
    "        # PIL 이미지를 numpy 배열로 변환\n",
    "        img_array = np.array(image)\n",
    "        img_array = cv2.cvtColor(img_array, cv2.COLOR_RGB2BGR)\n",
    "        \n",
    "        # 원본 크기\n",
    "        original_height, original_width = img_array.shape[:2]\n",
    "        print(f\"원본 크기: {original_width}x{original_height}\")\n",
    "        \n",
    "        # 600x400 안에 맞추면서 비율 유지\n",
    "        target_width, target_height = 600, 400\n",
    "        ratio = min(target_width / original_width, target_height / original_height)\n",
    "        new_width = int(original_width * ratio)\n",
    "        new_height = int(original_height * ratio)\n",
    "        \n",
    "        # 비율을 유지하며 리사이즈\n",
    "        img_resized = cv2.resize(img_array, (new_width, new_height))\n",
    "        \n",
    "        # OpenCV로 표시\n",
    "        cv2.imshow('Screenshot', img_resized)\n",
    "        print(f\"스크린샷이 표시되었습니다 ({new_width}x{new_height})\")\n",
    "        print(\"아무 키나 누르면 창이 닫힙니다\")\n",
    "        cv2.waitKey(0)\n",
    "        cv2.destroyAllWindows()\n",
    "        \n",
    "    except Exception as e:\n",
    "        print(f\"이미지 표시 오류: {e}\")\n",
    "\n",
    "# 실행\n",
    "await take_and_show_screenshot()"
   ]
  },
  {
   "cell_type": "code",
   "execution_count": null,
   "id": "37685842-447f-4fea-85ff-1951435408d9",
   "metadata": {},
   "outputs": [],
   "source": []
  }
 ],
 "metadata": {
  "kernelspec": {
   "display_name": "LG_LLM",
   "language": "python",
   "name": "python3"
  },
  "language_info": {
   "codemirror_mode": {
    "name": "ipython",
    "version": 3
   },
   "file_extension": ".py",
   "mimetype": "text/x-python",
   "name": "python",
   "nbconvert_exporter": "python",
   "pygments_lexer": "ipython3",
   "version": "3.10.18"
  }
 },
 "nbformat": 4,
 "nbformat_minor": 5
}
