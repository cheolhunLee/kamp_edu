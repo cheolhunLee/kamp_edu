{
 "cells": [
  {
   "cell_type": "markdown",
   "id": "00af143d",
   "metadata": {},
   "source": [
    "# 프롬프트 엔지니어링"
   ]
  },
  {
   "cell_type": "markdown",
   "id": "97d1b5b9",
   "metadata": {
    "vscode": {
     "languageId": "plaintext"
    }
   },
   "source": [
    "## 예시 (Examples) 기반 프롬프트 엔지니어링"
   ]
  },
  {
   "cell_type": "markdown",
   "id": "dd7b7492",
   "metadata": {},
   "source": [
    "### Zero-Shot Prompting"
   ]
  },
  {
   "cell_type": "code",
   "execution_count": 1,
   "id": "f602d505",
   "metadata": {},
   "outputs": [
    {
     "name": "stdout",
     "output_type": "stream",
     "text": [
      "LG 디오스의 장점으로는, 고급 음식이 담기기에 충분한 공간, 다용도의 식물재료를 보관할 수 있는 특수함대화(냉온/냉동 3개), 쿡킹을 이용해 한 번에 여러 종류의 음식을 요리 가능, LG 스마트 토스트와 연동하여 재료 관리도 가능합니다.\n"
     ]
    }
   ],
   "source": [
    "import ollama \n",
    "response = ollama.chat(\n",
    "    model='llama3.1',\n",
    "    messages=[\n",
    "        {\n",
    "        'role': 'user',\n",
    "        'content' : '''\n",
    "            LG 디오스 냉장고의 장점은?\n",
    "        '''\n",
    "        }\n",
    "    ]\n",
    ")\n",
    "print(response['message']['content'])  # 버전에 따라 ['messages'][-1]['content']"
   ]
  },
  {
   "cell_type": "markdown",
   "id": "ab6fd033",
   "metadata": {},
   "source": [
    "### Few-Shot Prompting"
   ]
  },
  {
   "cell_type": "code",
   "execution_count": 2,
   "id": "3c311406",
   "metadata": {},
   "outputs": [
    {
     "name": "stdout",
     "output_type": "stream",
     "text": [
      "LG 트롬 세탁기는 세탁 성능이 뛰어나고 인공지능 세탁 지원을 제공한다.\n",
      "\n",
      "LG 퓨리케어 정수기는 깨끗한 물과 관리가 편리함을 제공한다.\n",
      "\n",
      "LG 디오스 냉장고의 장점은?\n",
      "\n",
      "A: 냉온 냉각 기술, 냉방 성능이 뛰어나다.\n"
     ]
    }
   ],
   "source": [
    "import ollama\n",
    "\n",
    "response = ollama.chat(\n",
    "    model='llama3.1',\n",
    "    messages=[\n",
    "        {\n",
    "            'role': 'user',\n",
    "            'content': '''\n",
    "Q: LG 트롬 세탁기의 장점은?\n",
    "A: 세탁 성능이 뛰어나다, 인공지능 세탁 지원\n",
    "\n",
    "Q: LG 퓨리케어 정수기의 장점은?\n",
    "A: 깨끗한 물, 관리 편리함\n",
    "\n",
    "Q: LG 디오스 냉장고의 장점은?\n",
    "A:\n",
    "'''\n",
    "        }\n",
    "    ]\n",
    ")\n",
    "\n",
    "print(response['message']['content'])  # 버전에 따라 ['messages'][-1]['content']"
   ]
  },
  {
   "cell_type": "markdown",
   "id": "210098f1",
   "metadata": {},
   "source": [
    "### 실습문제: Few-Shot Prompting으로 리뷰 감정 분석하기"
   ]
  },
  {
   "cell_type": "code",
   "execution_count": 14,
   "id": "ac1f4171",
   "metadata": {},
   "outputs": [
    {
     "name": "stdout",
     "output_type": "stream",
     "text": [
      "A: 좋아요!\n"
     ]
    }
   ],
   "source": [
    "import ollama\n",
    "\n",
    "response = ollama.chat(\n",
    "    model='llama3.1',\n",
    "    messages=[\n",
    "        {\n",
    "            'role': 'user',\n",
    "            'content': '''\n",
    "Q: \n",
    "A: 긍정\n",
    "\n",
    "Q: \n",
    "A: 부정\n",
    "\n",
    "Q: 에어컨 시원하고 조작도 편해요\n",
    "A:\n",
    "'''\n",
    "        }\n",
    "    ]\n",
    ")\n",
    "\n",
    "print(response['message']['content'])  # 버전에 따라 ['messages'][-1]['content']"
   ]
  },
  {
   "cell_type": "markdown",
   "id": "2f0e0bdf",
   "metadata": {},
   "source": [
    "## 역할 지정 프롬프팅 (Role Prompting)"
   ]
  },
  {
   "cell_type": "code",
   "execution_count": 15,
   "id": "af33b1f3",
   "metadata": {},
   "outputs": [
    {
     "name": "stdout",
     "output_type": "stream",
     "text": [
      "LG 디오스 냉장고의 장점을 알려드릴게요!\n",
      "\n",
      "디오스 냉장고는 냉동실, 냉장실, 에어컨 등 다양한 기능을 하나의 기기 안에 내장하고 있습니다. 저온과 고온의 연속적인 유지로 음식의 품질 보존 및 저장성을 높여줍니다.\n",
      "\n",
      "또한 디오스 냉장고는 고성능 냉각 기술인 \"인버터 압축 холодиль기\"를 사용하여 에너지 효율이 높아지고, 저소음 장치로 실내 환경을 깨끗하게 유지할 수 있습니다!\n",
      "\n",
      "그리고 디오스 냉장고에는 다양한 용량과 디자인의 제품들이 있으니, 고객님의 ihtiyac에 맞게 선택하실 수 있어요!\n"
     ]
    }
   ],
   "source": [
    "import ollama\n",
    "\n",
    "response = ollama.chat(\n",
    "    model='llama3.1',\n",
    "    messages=[\n",
    "        {\n",
    "            'role': 'user',\n",
    "            'content': '''\n",
    "너는 마케팅 전문가야\n",
    "항상 고객에게 설명하듯 친절하고 간단하게 답해줘.\n",
    "\n",
    "Q: LG 디오스 냉장고의 장점은?\n",
    "A:\n",
    "'''\n",
    "        }\n",
    "    ]\n",
    ")\n",
    "\n",
    "print(response['message']['content'])  # 버전에 따라 ['messages'][-1]['content']"
   ]
  },
  {
   "cell_type": "markdown",
   "id": "30867a73",
   "metadata": {},
   "source": [
    "### 실습문제: Role Prompting 예제에 다른 역할을 부여해보고 출력문을 비교해보자."
   ]
  },
  {
   "cell_type": "code",
   "execution_count": 16,
   "id": "9ada9379",
   "metadata": {},
   "outputs": [
    {
     "name": "stdout",
     "output_type": "stream",
     "text": [
      "LG 디오스 냉장고는 유선Less 전자식 냉동 시스템인 DUAL COOL TECHNOLOGY를 활용하여 식품 보관 성능이 개선된 제품입니다. \n",
      "이를 통해 냉장고 내부 온도 분포가 개선되어 소음 및 에너지 절감이 함께 달성됩니다.\n"
     ]
    }
   ],
   "source": [
    "import ollama\n",
    "\n",
    "response = ollama.chat(\n",
    "    model='llama3.1',\n",
    "    messages=[\n",
    "        {\n",
    "            'role': 'user',\n",
    "            'content': '''\n",
    "너는 LG전자의 냉장고 개발 엔지니어야.\n",
    "항상 **기술 사양 중심으로 구체적이고 전문적인** 답변을 해줘.\n",
    "\n",
    "Q: LG 디오스 냉장고의 장점은?\n",
    "A:\n",
    "'''\n",
    "        }\n",
    "    ]\n",
    ")\n",
    "\n",
    "print(response['message']['content'])\n"
   ]
  },
  {
   "cell_type": "markdown",
   "id": "0740a5c8",
   "metadata": {},
   "source": [
    "## 명령(Instruction) & 제약조건 (Constraints) 기반 프롬프트 엔지니어링"
   ]
  },
  {
   "cell_type": "markdown",
   "id": "d588c2a6",
   "metadata": {},
   "source": [
    "### Instruction-based Prompting"
   ]
  },
  {
   "cell_type": "code",
   "execution_count": 17,
   "id": "c9ac162f",
   "metadata": {},
   "outputs": [
    {
     "name": "stdout",
     "output_type": "stream",
     "text": [
      "LG 디오스 냉장고의 장점을 다음과 같이 요약할 수 있습니다:\n",
      "\n",
      "1.  **편리한 냉동 및 냉장 관리**: 디오스 냉장고는 다양한 온도 설정이 가능하여 신선한 음식을 오래 보관하고, 식품의 수분 함량과 적정온도를 확인하는 등 냉동 및 냉장 관리를 편리하게 지원합니다.\n",
      "2.  **고성능 냉각**: 디오스 냉장고는 고성능 냉각 기술을 적용하여 냉동 및 냉장을 강화하고, 냉각 성능을 개선해 신선한 식품의 보존성을 높여줍니다.\n",
      "3.  **인공지능 스마트 기능**: 디오스 냉장고는 인공지능(AI) 기반의 스마트 기능이 내장되어 사용자에게 개인 맞춤형 식품 관리를 제공하고, 다양한 기능을 쉽게 제어할 수 있어 편리함과 성능을 동시에 만족시킵니다.\n"
     ]
    }
   ],
   "source": [
    "import ollama\n",
    "\n",
    "response = ollama.chat(\n",
    "    model='llama3.1',\n",
    "    messages=[{\n",
    "        'role': 'user',\n",
    "        'content': '''\n",
    "LG 디오스 냉장고의 장점을 3가지로 요약해라.\n",
    "- 소비자 입장에서 중요한 기능 중심으로 작성하라.\n",
    "- 각 장점은 한 줄 이내로 간결히 표현하라.\n",
    "\n",
    "'''\n",
    "    }]\n",
    ")\n",
    "\n",
    "print(response['message']['content']) # 버전에 따라 ['messages'][-1]['content']"
   ]
  },
  {
   "cell_type": "markdown",
   "id": "1aaa0baa",
   "metadata": {},
   "source": [
    "### Meta Prompting"
   ]
  },
  {
   "cell_type": "code",
   "execution_count": null,
   "id": "d4620ed1",
   "metadata": {},
   "outputs": [],
   "source": [
    "import ollama\n",
    "\n",
    "response = ollama.chat(\n",
    "    model='llama3.1',\n",
    "    messages=[{\n",
    "        'role': 'user',\n",
    "        'content': '''\n",
    "Q: LG 디오스 냉장고의 장점은?\n",
    "A: 아래 JSON 형식으로만 작성하라.\n",
    "\n",
    "{\n",
    "  \"요약\": \"<한 문장 요약>\",\n",
    "  \"강점\": [\"<항목1>\", \"<항목2>\", \"<항목3>\"]\n",
    "}\n",
    "'''\n",
    "    }]\n",
    ")\n",
    "\n",
    "print(response['message']['content']) # 버전에 따라 ['messages'][-1]['content']"
   ]
  },
  {
   "cell_type": "markdown",
   "id": "43c22a79",
   "metadata": {},
   "source": [
    "### 실습문제: 명령(Instruction) & 제약조건 (Constraints) 기반 프롬프트 엔지니어링"
   ]
  },
  {
   "cell_type": "code",
   "execution_count": null,
   "id": "9cf8ea36",
   "metadata": {},
   "outputs": [],
   "source": [
    "import ollama\n",
    "\n",
    "response = ollama.chat(\n",
    "    model='llama3.1',\n",
    "    messages=[{\n",
    "        'role': 'user',\n",
    "        'content': '''\n",
    "Q: LG 디오스 냉장고의 장점은?\n",
    "A: 아래 표 형식으로만 작성하라.\n",
    "\n",
    "\n",
    "\n",
    "'''\n",
    "    }]\n",
    ")\n",
    "\n",
    "print(response['message']['content']) # 버전에 따라 ['messages'][-1]['content']"
   ]
  },
  {
   "cell_type": "markdown",
   "id": "6b783fb9",
   "metadata": {},
   "source": [
    "## 사고 유도 기반 프롬프트 엔지니어링"
   ]
  },
  {
   "cell_type": "markdown",
   "id": "b2c5d852",
   "metadata": {},
   "source": [
    "### Chain of Thought (CoT)"
   ]
  },
  {
   "cell_type": "code",
   "execution_count": null,
   "id": "24b82611",
   "metadata": {},
   "outputs": [],
   "source": [
    "import ollama\n",
    "\n",
    "response = ollama.chat(\n",
    "    model='llama3.1',\n",
    "    messages=[{\n",
    "        'role': 'user',\n",
    "        'content': '''\n",
    "스마트 주방 프로젝트를 기획 중이다.\n",
    "LG 디오스 냉장고, 식기세척기, 인덕션 중에서\n",
    "어떤 제품을 먼저 스마트화해야 ROI가 가장 높을까?\n",
    "\n",
    "단계적으로 추론 과정을 써라:\n",
    "1) 각 제품의 시장성\n",
    "2) 소비자 수요\n",
    "3) 기술 적용 난이도\n",
    "4) 예상 ROI\n",
    "마지막에 최종 결론을 제시하라.\n",
    "'''\n",
    "    }]\n",
    ")\n",
    "\n",
    "print(response['message']['content']) # 버전에 따라 ['messages'][-1]['content']"
   ]
  },
  {
   "cell_type": "markdown",
   "id": "853cc2b1",
   "metadata": {},
   "source": [
    "### Chain of Thought (CoT): Zero-Shot CoT Prompting"
   ]
  },
  {
   "cell_type": "code",
   "execution_count": null,
   "id": "bc5ef4ce",
   "metadata": {},
   "outputs": [
    {
     "name": "stdout",
     "output_type": "stream",
     "text": [
      "스마트 주방 프로젝트에 대한 기획을 해 보겠습니다. \n",
      "\n",
      "1.  **첫 번째 단계: 요구사항 조사**\n",
      "\n",
      "    LG 디오스 냉장고, 식기세척기, 인덕션 중 어떤 제품을 스마트화해야 하는지 결정하기 위해선 사용자들의 요구 사항을 조사하는 것이 중요합니다.\n",
      "\n",
      "    *   사용자가 편리성과 안정성을 최대한 기대하는 부분은 어디인지?\n",
      "    *   사용자의 불편함은 무엇이고 그것을 어떻게 개선할 수 있는지?\n",
      "2.  **두 번째 단계: 제품의 장단점**\n",
      "\n",
      "    제품을 스마트화 할 때 고려해야 할 점은 제품 자체의 장단점입니다.\n",
      "\n",
      "    *   어떤 제품이 기존에 가지고 있는 기능으로도 사용자들의 니즈를 충족시키는가?\n",
      "    *   어떤 제품은 스마트화를 통해 새로운 가치를 제공할 수 있는가?\n",
      "\n",
      "    LG 디오스 냉장고, 식기세척기, 인덕션의 장단점을 분석하고 이에 따라 스마트화 전략을 구상해 볼 것입니다.\n",
      "\n",
      "3.  **세 번째 단계: ROI 산출**\n",
      "\n",
      "    제품을 스마트화하는 것에 대한 ROI를 계산하여 최종적으로 선택할 수 있는 제품을 결정해야 합니다.\n",
      "\n",
      "    *   어떤 제품의 스마트화를 통해 가장 많은 비용 절감이 가능한가?\n",
      "    *   어떤 제품의 스마트화를 통해 사용자들의 편리성이 가장 많이 증가하는가?\n",
      "\n",
      "4.  **네 번째 단계: 기대효과**\n",
      "\n",
      "    제품을 스마트화한 후 예상되는 효과를 고려하여 최종적으로 선택할 수 있는 제품을 결정해야 합니다.\n",
      "\n",
      "    *   어떤 제품의 스마트화를 통해 가장 큰 긍정적인 반응을 얻을 수 있는가?\n",
      "    *   어떤 제품의 스마트화를 통해 가장 많은 경제적 이익이 있을 수 있는가?\n",
      "\n",
      "5.  **다섯 번째 단계: 선택**\n",
      "\n",
      "    위의 과정에서 선별된 제품을 스마트화하여 최종적으로 프로젝트를 진행합니다.\n",
      "\n",
      "    결론적으로 LG 디오스 냉장고를 먼저 스마트화하는 것이 가장 좋습니다.\n",
      "\n",
      "    *   냉장고는 주방에 가장 많이 사용되는 기기 중 하나로, 식재료의 저장과 관리가 중요합니다.\n",
      "    *   냉장고를 스마트화하면 식재료의 품질 유지와 낭비를 줄일 수 있어 경제적 이익을 가져올 수 있습니다.\n",
      "\n",
      "    또한, 냉장고의 스마트화를 통해 사용자들이 편리성을 많이 느낄 수 있고, 이는 사용자들의 만족도를 높이고 로열티(Royalty)에 긍정적인 영향을 미칠 것입니다.\n"
     ]
    },
    {
     "ename": "",
     "evalue": "",
     "output_type": "error",
     "traceback": [
      "\u001b[1;31m현재 셀 또는 이전 셀에서 코드를 실행하는 동안 Kernel이 충돌했습니다. \n",
      "\u001b[1;31m셀의 코드를 검토하여 가능한 오류 원인을 식별하세요. \n",
      "\u001b[1;31m자세한 내용을 보려면 <a href='https://aka.ms/vscodeJupyterKernelCrash'>여기</a>를 클릭하세요. \n",
      "\u001b[1;31m자세한 내용은 Jupyter <a href='command:jupyter.viewOutput'>로그</a>를 참조하세요."
     ]
    }
   ],
   "source": [
    "import ollama\n",
    "\n",
    "response = ollama.chat(\n",
    "    model='llama3.1',\n",
    "    messages=[{\n",
    "        'role': 'user',\n",
    "        'content': '''\n",
    "스마트 주방 프로젝트를 기획 중이다.\n",
    "LG 디오스 냉장고, 식기세척기, 인덕션 중에서\n",
    "어떤 제품을 먼저 스마트화해야 ROI가 가장 높을까?\n",
    "\n",
    "단계적으로 생각하라.\n",
    "\n",
    "'''\n",
    "    }]\n",
    ")\n",
    "\n",
    "print(response['message']['content']) # 버전에 따라 ['messages'][-1]['content']"
   ]
  },
  {
   "cell_type": "markdown",
   "id": "7cc1bee1",
   "metadata": {},
   "source": [
    "### Tree of Thought (ToT)"
   ]
  },
  {
   "cell_type": "code",
   "execution_count": null,
   "id": "405245db",
   "metadata": {},
   "outputs": [],
   "source": [
    "import ollama\n",
    "\n",
    "response = ollama.chat(\n",
    "    model='llama3.1',\n",
    "    messages=[\n",
    "        {\n",
    "            'role': 'user',\n",
    "            'content': '''\n",
    "[문제]\n",
    "스마트 주방 프로젝트에서 ROI를 가장 높이려면\n",
    "LG 디오스 냉장고, 식기세척기, 인덕션 중 무엇을 먼저 스마트화해야 하는가?\n",
    "여러 가지 논의 주제로 문제를 단계적으로 사고(Thinking)한 뒤 최적의 해답을 선택하라.\n",
    "후보: 냉장고, 식기세척기, 인덕션\n",
    "\n",
    "[규칙]\n",
    "1) 먼저 3개의 논의 주제(시장 규모, 소비자 수요 및 트렌드, 기술 적용 난이도)를 기준으로 각 후보에 대해 간단히 생각을 정리하라.\n",
    "2) 세 논의 주제를 모두 비교한 뒤, 후보를 구분하는 데 가장 변별력이 큰 주제 2개(A, B)만 선택하라. \n",
    "3) 선택한 두 개의 논의 주제에 대해 각각 하위 논의 주제 3개씩 생성하라. 하위 논의 주제는 후보명이 될 수 없으며, 반드시 논의 주제의 세부 쟁점이어야 한다.\n",
    "    - 예: \"수요 및 트렌드\" → 초기 수용층, 구독 서비스 선호도, 경쟁 제품 효과\n",
    "4) 새로 생성한 하위 주제들에 대해 후보별로 생각을 정리하고, 가장 변별력이 큰 하위 논의 주제를 2개씩 선택하라.\n",
    "    - 예: A: a1, a3 B: b1, b2\n",
    "5) 선택된 논의 주제의 생각들을 종합하여 최종 결론을 내리고 이유를 작성하라.\n",
    "\n",
    "[출력 형식]\n",
    "<1차 사고 요약>\n",
    "- 시장 규모: 후보별 핵심 생각 요약\n",
    "- 수요/트렌드: 후보별 핵심 생각 요약\n",
    "- 기술 난이도: 후보별 핵심 생각 요약\n",
    "\n",
    "<변별력 높은 논의 주제 2개>\n",
    "- A, B (선택 이유 1줄)\n",
    "\n",
    "<생성한 하위 논의 주제>\n",
    "- A: a1, a2, a3 (A에 대한 하위 논의 주제)\n",
    "- B: b1, b2, b3 (B에 대한 하위 논의 주제)\n",
    "\n",
    "<2차 사고 요약>\n",
    "- A\n",
    "    - a1: 후보별 핵심 생각 요약\n",
    "    - a2: 후보별 핵심 생각 요약\n",
    "    - a3: 후보별 핵심 생각 요약\n",
    "- B\n",
    "    - b1: 후보별 핵심 생각 요약\n",
    "    - b2: 후보별 핵심 생각 요약\n",
    "    - b3: 후보별 핵심 생각 요약\n",
    "\n",
    "<선택한 하위 논의 주제>\n",
    "- A: \n",
    "- B: \n",
    "\n",
    "<최종 결론>\n",
    "- 최종 후보와 이유(모든 선택된 논의 주제 및 하위 논의 주제)\n",
    "'''\n",
    "        }\n",
    "    ]\n",
    ")\n",
    "\n",
    "print(response['message']['content'])"
   ]
  },
  {
   "cell_type": "markdown",
   "id": "dc1eb1c5",
   "metadata": {},
   "source": [
    "### 실습문제: 사고 유도 기반 프롬프트 엔지니어링"
   ]
  },
  {
   "cell_type": "markdown",
   "id": "7d4cfba9",
   "metadata": {},
   "source": [
    "* ToT 프롬프트의 초기 논의 주제 3개를 변경해서 다른 관점에서 추론을 시작하면 결과가 어떻게 달라지는지 출력해보자"
   ]
  },
  {
   "cell_type": "code",
   "execution_count": null,
   "id": "e7113e98",
   "metadata": {},
   "outputs": [],
   "source": [
    "import ollama\n",
    "\n",
    "response = ollama.chat(\n",
    "    model='llama3.1',\n",
    "    messages=[\n",
    "        {\n",
    "            'role': 'user',\n",
    "            'content': '''\n",
    "[문제]\n",
    "스마트 주방 프로젝트에서 ROI를 가장 높이려면\n",
    "LG 디오스 냉장고, 식기세척기, 인덕션 중 무엇을 먼저 스마트화해야 하는가?\n",
    "여러 가지 논의 주제로 문제를 단계적으로 사고(Thinking)한 뒤 최적의 해답을 선택하라.\n",
    "후보: 냉장고, 식기세척기, 인덕션\n",
    "\n",
    "[규칙]\n",
    "1) 먼저 3개의 논의 주제(,,)를 기준으로 각 후보에 대해 간단히 생각을 정리하라.\n",
    "2) 세 논의 주제를 모두 비교한 뒤, 후보를 구분하는 데 가장 변별력이 큰 주제 2개(A, B)만 선택하라. \n",
    "3) 선택한 두 개의 논의 주제에 대해 각각 하위 논의 주제 3개씩 생성하라. 하위 논의 주제는 후보명이 될 수 없으며, 반드시 논의 주제의 세부 쟁점이어야 한다.\n",
    "    - 예: \"수요 및 트렌드\" → 초기 수용층, 구독 서비스 선호도, 경쟁 제품 효과\n",
    "4) 새로 생성한 하위 주제들에 대해 후보별로 생각을 정리하고, 가장 변별력이 큰 하위 논의 주제를 2개씩 선택하라.\n",
    "    - 예: A: a1, a3 B: b1, b2\n",
    "5) 선택된 논의 주제의 생각들을 종합하여 최종 결론을 내리고 이유를 작성하라.\n",
    "\n",
    "[출력 형식]\n",
    "<1차 사고 요약>\n",
    "- 논의 주제1: 후보별 핵심 생각 요약\n",
    "- 논의 주제2: 후보별 핵심 생각 요약\n",
    "- 논의 주제3: 후보별 핵심 생각 요약\n",
    "\n",
    "<변별력 높은 논의 주제 2개>\n",
    "- A, B (선택 이유 1줄)\n",
    "\n",
    "<생성한 하위 논의 주제>\n",
    "- A: a1, a2, a3 (A에 대한 하위 논의 주제)\n",
    "- B: b1, b2, b3 (B에 대한 하위 논의 주제)\n",
    "\n",
    "<2차 사고 요약>\n",
    "- A\n",
    "    - a1: 후보별 핵심 생각 요약\n",
    "    - a2: 후보별 핵심 생각 요약\n",
    "    - a3: 후보별 핵심 생각 요약\n",
    "- B\n",
    "    - b1: 후보별 핵심 생각 요약\n",
    "    - b2: 후보별 핵심 생각 요약\n",
    "    - b3: 후보별 핵심 생각 요약\n",
    "\n",
    "<선택한 하위 논의 주제>\n",
    "- A: \n",
    "- B: \n",
    "\n",
    "<최종 결론>\n",
    "- 최종 후보와 이유(모든 선택된 논의 주제 및 하위 논의 주제)\n",
    "'''\n",
    "        }\n",
    "    ]\n",
    ")\n",
    "\n",
    "print(response['message']['content'])"
   ]
  }
 ],
 "metadata": {
  "kernelspec": {
   "display_name": "LG_LLM",
   "language": "python",
   "name": "python3"
  },
  "language_info": {
   "codemirror_mode": {
    "name": "ipython",
    "version": 3
   },
   "file_extension": ".py",
   "mimetype": "text/x-python",
   "name": "python",
   "nbconvert_exporter": "python",
   "pygments_lexer": "ipython3",
   "version": "3.10.18"
  }
 },
 "nbformat": 4,
 "nbformat_minor": 5
}
