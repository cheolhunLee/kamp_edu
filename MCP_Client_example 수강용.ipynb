{
 "cells": [
  {
   "cell_type": "markdown",
   "id": "a0c2f812",
   "metadata": {},
   "source": [
    "# LangChain MCP 클라이언트를 활용한 문서 기반 QA 시스템\n",
    "\n",
    "## 강의 개요\n",
    "\n",
    "이번 장에서는 LangChain의 MCP(Model Context Protocol) 클라이언트를 사용하여 문서 기반 질문-답변 시스템을 구축하는 방법을 학습합니다.\n",
    "\n",
    "## 학습 목표\n",
    "\n",
    "- MCP 클라이언트의 기본 개념 이해\n",
    "- 문서 업로드 및 처리 과정 이해\n",
    "- 비동기 프로그래밍을 활용한 QA 시스템 구현"
   ]
  },
  {
   "cell_type": "markdown",
   "id": "a6695bfe",
   "metadata": {},
   "source": [
    "### 1. 라이브러리 임포트\n",
    "\n",
    "- `asyncio`: 비동기 프로그래밍을 위한 모듈\n",
    "- `MultiServerMCPClient`: 여러 MCP 서버와 통신할 수 있는 클라이언트\n",
    "- `json`: JSON 형태의 응답 처리\n",
    "- `os`: 파일 경로 처리"
   ]
  },
  {
   "cell_type": "code",
   "execution_count": 6,
   "id": "1fd1c884",
   "metadata": {},
   "outputs": [],
   "source": [
    "import asyncio\n",
    "from langchain_mcp_adapters.client import MultiServerMCPClient\n",
    "import json\n",
    "import os"
   ]
  },
  {
   "cell_type": "markdown",
   "id": "3da50a2f",
   "metadata": {},
   "source": [
    "### 2. MCP 도구 호출 함수\n",
    "\n",
    "**주요 기능:**\n",
    "- 클라이언트에서 사용 가능한 도구 목록 조회\n",
    "- 지정된 도구 검색 및 실행\n"
   ]
  },
  {
   "cell_type": "code",
   "execution_count": 7,
   "id": "2e710e26",
   "metadata": {},
   "outputs": [],
   "source": [
    "async def call_mcp_tool(client, tool_name, tool_args):\n",
    "    tools = client.get_tools()\n",
    "    tool = next((t for t in tools if t.name == tool_name), None)\n",
    "    if tool is None:\n",
    "        raise ValueError(f\"Tool '{tool_name}' not found\")\n",
    "    return await tool.coroutine(**tool_args)"
   ]
  },
  {
   "cell_type": "markdown",
   "id": "041e94d1",
   "metadata": {},
   "source": [
    "### 3. 문서 업로드 함수\n",
    "\n",
    "**핵심 개념:**\n",
    "- 파일 경로를 인자로 받아 문서 업로드\n",
    "- JSON 형태의 결과 파싱"
   ]
  },
  {
   "cell_type": "code",
   "execution_count": 8,
   "id": "ebc9389b",
   "metadata": {},
   "outputs": [],
   "source": [
    "async def upload_document(client, file_path):\n",
    "    result = await call_mcp_tool(client, \"upload_document\", {\"file_path\": file_path})\n",
    "    parsed_result = json.loads(result[0])\n",
    "    print(\"[문서 업로드 결과]\", parsed_result)"
   ]
  },
  {
   "cell_type": "markdown",
   "id": "da62306c",
   "metadata": {},
   "source": [
    "### 4. 질문-답변 함수 \n",
    "\n",
    "**핵심 개념:**\n",
    "- 사용자가 입력한 질의를 MCP 서버로 전송하여 응답 수신\n",
    "- 튜플 형태의 응답을 처리하여 텍스트만 추출\n",
    "- 사용자 친화적인 출력 형식으로 질문과 답변을 구분하여 표시\n"
   ]
  },
  {
   "cell_type": "code",
   "execution_count": 9,
   "id": "b9ff2760",
   "metadata": {},
   "outputs": [],
   "source": [
    "async def ask_question(client, query):\n",
    "    ask_result = await call_mcp_tool(client, \"ask_question\", {\"query\": query})\n",
    "    \n",
    "    # 결과가 튜플인 경우 첫 번째 요소만 추출\n",
    "    if isinstance(ask_result, tuple):\n",
    "        response_text = ask_result[0]\n",
    "    else:\n",
    "        response_text = ask_result\n",
    "    \n",
    "    # 응답 텍스트 출력 (깔끔하게 정리)\n",
    "    print(\"\\n\" + \"=\"*50)\n",
    "    print(f\"질문: {query}\")\n",
    "    print(\"=\"*50)\n",
    "    print(response_text)\n",
    "    print(\"=\"*50 + \"\\n\")"
   ]
  },
  {
   "cell_type": "markdown",
   "id": "c87cd7f3",
   "metadata": {},
   "source": [
    "### 5. 메인 실행 함수\n",
    "\n",
    "**구성 요소:**\n",
    "- **클라이언트 설정**: 로컬 서버 연결 정보\n",
    "- **전송 방식**: SSE(Server-Sent Events) 사용\n",
    "- **문서 처리**: 절대 경로로 PDF 파일 업로드\n",
    "- **질문 실행**: 업로드된 문서 기반 질의"
   ]
  },
  {
   "cell_type": "code",
   "execution_count": 11,
   "id": "3e365bdd",
   "metadata": {},
   "outputs": [
    {
     "name": "stderr",
     "output_type": "stream",
     "text": [
      "C:\\Users\\IISLab\\AppData\\Local\\Temp\\ipykernel_34556\\3665780568.py:18: RuntimeWarning: coroutine 'main' was never awaited\n",
      "  asyncio.ensure_future(main())\n",
      "RuntimeWarning: Enable tracemalloc to get the object allocation traceback\n"
     ]
    },
    {
     "name": "stdout",
     "output_type": "stream",
     "text": [
      "[문서 업로드 결과] {'status': '문서 저장 완료'}\n",
      "\n",
      "==================================================\n",
      "질문: 집중 호우의 원인은 무엇인가요?\n",
      "==================================================\n",
      "집중 호우의 주요 원인은 다음과 같습니다:\n",
      "\n",
      "1. **저기압 시스템**: 기상청과 장은철 교수는 이번 집중호우의 직접적인 원인으로 서해에서 유입된 저기압이 장마전선과 만나 많은 비를 가져왔다고 분석했습니다. 특히, 강력하게 발달한 저기압이 북태평양 고기압과 부딪혀 많은 강수량을 발생시켰습니다.\n",
      "\n",
      "2. **대기 순환 패턴의 변화**: 민승기 교수와 장은철 교수는 해수 온도 상승이 대기 순환 패턴에 영향을 미치고 있다고 보고 있습니다. 서해의 온난화가 빠르게 진행되면서 대기의 수증기 함유량 증가와 강수 패턴 변화를 초래할 수 있습니다.\n",
      "\n",
      "3. **엘니뇨 현상**: 전 지구 해수면 온도 상승으로 인한 엘니뇨 현상도 기후 변화에 영향을 미쳐 강수 패턴에 변화를 가져올 수 있습니다.\n",
      "\n",
      "이러한 요인들이 복합적으로 작용하여 짧은 시간 내에 많은 비가 내리는 집중 호우 현상을 초래하고 있습니다.\n",
      "==================================================\n",
      "\n"
     ]
    }
   ],
   "source": [
    "async def main():\n",
    "    async with MultiServerMCPClient(\n",
    "        {\n",
    "            \"qa\": {\n",
    "                \"url\": \"http://localhost:8005/sse\",\n",
    "                \"transport\": \"sse\",\n",
    "            }\n",
    "        }\n",
    "    ) as client:\n",
    "        pdf_path = os.path.abspath(\"./document/news_weather.pdf\")        \n",
    "        await upload_document(client, pdf_path)\n",
    "        await ask_question(client, \"집중 호우의 원인은 무엇인가요?\")\n",
    "        \n",
    "try:\n",
    "    asyncio.get_event_loop().run_until_complete(main())\n",
    "except RuntimeError:  \n",
    "    asyncio.ensure_future(main())"
   ]
  },
  {
   "cell_type": "markdown",
   "id": "12ed2842",
   "metadata": {},
   "source": [
    "### 6. 도구 목록확인"
   ]
  },
  {
   "cell_type": "code",
   "execution_count": 24,
   "id": "7e2bc8e3",
   "metadata": {},
   "outputs": [],
   "source": [
    "async def discover_available_tools(client):\n",
    "    tools = client.get_tools()\n",
    "    \n",
    "    print(\"서버에서 사용 가능한 도구 목록\")\n",
    "    print(\"=\"*60)\n",
    "    \n",
    "    for i, tool in enumerate(tools, 1):\n",
    "        print(f\"{i}. 도구명: {tool.name}\")\n",
    "        print(\"-\" * 40)\n",
    "    \n",
    "   \n",
    "    print(\"=\"*60 + \"\\n\")\n",
    "    \n",
    "    return [tool.name for tool in tools]"
   ]
  },
  {
   "cell_type": "code",
   "execution_count": 25,
   "id": "49d02365",
   "metadata": {},
   "outputs": [
    {
     "name": "stdout",
     "output_type": "stream",
     "text": [
      "서버에서 사용 가능한 도구 목록\n",
      "============================================================\n",
      "1. 도구명: upload_document\n",
      "----------------------------------------\n",
      "2. 도구명: ask_question\n",
      "----------------------------------------\n",
      "3. 도구명: list_documents\n",
      "----------------------------------------\n",
      "============================================================\n",
      "\n"
     ]
    }
   ],
   "source": [
    "\n",
    "async def main():\n",
    "    async with MultiServerMCPClient(\n",
    "        {\n",
    "            \"qa\": {\n",
    "                \"url\": \"http://localhost:8005/sse\",\n",
    "                \"transport\": \"sse\",\n",
    "            }\n",
    "        }\n",
    "    ) as client:\n",
    "        \n",
    "        # 1단계: 사용 가능한 도구 목록 확인\n",
    "        await discover_available_tools(client)\n",
    "\n",
    "# 실행\n",
    "await main()"
   ]
  },
  {
   "cell_type": "markdown",
   "id": "bf07ed8e",
   "metadata": {},
   "source": [
    "### 실습: 위의 예제에서 사용하지 않은 도구를 사용한 결과를 출력하세요\n",
    "\n",
    "\n",
    "1. 도구명: upload_document\n",
    "----------------------------------------\n",
    "2. 도구명: ask_question\n",
    "----------------------------------------\n",
    "3. 도구명: list_documents"
   ]
  },
  {
   "cell_type": "code",
   "execution_count": 1,
   "id": "7f5ec4a9",
   "metadata": {},
   "outputs": [],
   "source": [
    "async def show_document_list(client):\n",
    "    \n",
    "    \n",
    "    #빈칸에 들어갈 것만 채워주세요\n",
    "    result = await call_mcp_tool(client, \"___________\", {}) #빈칸에 들어갈 것만 채워주세요\n",
    "    \n",
    "    if isinstance(result, tuple):\n",
    "        response_text = result[0]\n",
    "    else:\n",
    "        response_text = result\n",
    "    \n",
    "    print(\" 문서 목록:\")\n",
    "    print(response_text)"
   ]
  },
  {
   "cell_type": "code",
   "execution_count": 27,
   "id": "617614be",
   "metadata": {},
   "outputs": [
    {
     "name": "stdout",
     "output_type": "stream",
     "text": [
      "[문서 업로드 결과] {'status': '문서 저장 완료'}\n",
      "📋 문서 목록:\n",
      " 총 2개의 문서가 저장되어 있습니다:\n",
      "\n",
      "  📄 1. news_weather.pdf\n",
      "  📄 2. 원자력안전관리_설명자료.pdf\n"
     ]
    }
   ],
   "source": [
    "# 5. 메인 실행\n",
    "async def main():\n",
    "    async with MultiServerMCPClient(\n",
    "        {\n",
    "            \"qa\": {\n",
    "                \"url\": \"http://localhost:8005/sse\",\n",
    "                \"transport\": \"sse\",\n",
    "            }\n",
    "        }\n",
    "    ) as client:\n",
    "        \n",
    "        #실습 pdf 파일 추가 로드 \n",
    "        pdf_path = os.path.abspath(\"./document/원자력안전관리_설명자료.pdf\")\n",
    "        await upload_document(client, pdf_path)\n",
    "        await show_document_list(client)\n",
    "\n",
    "# 실행\n",
    "await main()"
   ]
  },
  {
   "cell_type": "code",
   "execution_count": null,
   "id": "137cc7f2",
   "metadata": {},
   "outputs": [],
   "source": []
  }
 ],
 "metadata": {
  "kernelspec": {
   "display_name": "doosan",
   "language": "python",
   "name": "doosan"
  },
  "language_info": {
   "codemirror_mode": {
    "name": "ipython",
    "version": 3
   },
   "file_extension": ".py",
   "mimetype": "text/x-python",
   "name": "python",
   "nbconvert_exporter": "python",
   "pygments_lexer": "ipython3",
   "version": "3.10.16"
  }
 },
 "nbformat": 4,
 "nbformat_minor": 5
}
