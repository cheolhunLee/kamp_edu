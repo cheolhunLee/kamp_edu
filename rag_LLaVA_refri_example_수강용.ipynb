{
 "cells": [
  {
   "cell_type": "markdown",
   "id": "69e61d3c",
   "metadata": {},
   "source": [
    "# 이미지 요약 RAG"
   ]
  },
  {
   "cell_type": "markdown",
   "id": "4d04300f",
   "metadata": {},
   "source": [
    "### LLM 초기화"
   ]
  },
  {
   "cell_type": "markdown",
   "id": "f097a8ca",
   "metadata": {},
   "source": [
    "* 이미지에서 설명을 추출할 llava와 챗봇용 llama 3.1 모델을 선언함."
   ]
  },
  {
   "cell_type": "code",
   "execution_count": 1,
   "id": "8dde4a30",
   "metadata": {},
   "outputs": [
    {
     "name": "stderr",
     "output_type": "stream",
     "text": [
      "C:\\Users\\IISLab\\AppData\\Local\\Temp\\ipykernel_33664\\802893297.py:4: LangChainDeprecationWarning: The class `Ollama` was deprecated in LangChain 0.3.1 and will be removed in 1.0.0. An updated version of the class exists in the :class:`~langchain-ollama package and should be used instead. To use it run `pip install -U :class:`~langchain-ollama` and import as `from :class:`~langchain_ollama import OllamaLLM``.\n",
      "  vlm = Ollama(model=\"llava:7b\")\n"
     ]
    }
   ],
   "source": [
    "from langchain_community.llms import Ollama\n",
    "\n",
    "# 이미지 설명용 모델 (LLaVA)\n",
    "vlm = Ollama(model=\"llava:7b\")\n",
    "\n",
    "# QA용 모델 (LLaMa)\n",
    "llm = Ollama(\n",
    "    model=\"llama3.1:8b-instruct-q8_0\",\n",
    "    temperature=0\n",
    ")"
   ]
  },
  {
   "cell_type": "markdown",
   "id": "151ead85",
   "metadata": {},
   "source": [
    "### 이미지를 설명하는 문장을 추출하는 함수"
   ]
  },
  {
   "cell_type": "markdown",
   "id": "34252b55",
   "metadata": {},
   "source": [
    "* 이미지와 텍스트로 된 프롬프트를 LlaVa에 입력하여 이미지에 대한 설명을 추출함."
   ]
  },
  {
   "cell_type": "code",
   "execution_count": 2,
   "id": "3c133bbe",
   "metadata": {},
   "outputs": [],
   "source": [
    "import base64\n",
    "\n",
    "# 이미지를 입력으로 받아 llava가 이미지의 내용을 추출 \n",
    "def describe_image(image_path: str) -> str:\n",
    "    with open(image_path, \"rb\") as img_file:\n",
    "        img_bytes = img_file.read()\n",
    "    base64_img = base64.b64encode(img_bytes).decode(\"utf-8\")\n",
    "    image_summary_prompt = \"\"\"\n",
    "    You are an AI assistant specialized in summarizing visual content.\n",
    "    Please look at the provided image and describe the most important details in a clear and concise manner.\n",
    "    Do not make assumptions or add imagined details—only describe what is visible.\n",
    "    Keep the summary to 2–4 sentences.\"\"\"\n",
    "    result = vlm.invoke(image_summary_prompt, images=[base64_img])\n",
    "    return result.strip()"
   ]
  },
  {
   "cell_type": "markdown",
   "id": "046b2e79",
   "metadata": {},
   "source": [
    "### Document 생성"
   ]
  },
  {
   "cell_type": "markdown",
   "id": "f3691359",
   "metadata": {},
   "source": [
    "* 각 이미지 설명과 이미지 경로를 Document 객체로 만들어서 리스트에 저장함."
   ]
  },
  {
   "cell_type": "code",
   "execution_count": 3,
   "id": "a39d03ba",
   "metadata": {},
   "outputs": [],
   "source": [
    "from langchain_core.documents import Document\n",
    "import os\n",
    "\n",
    "IMAGE_FOLDER = \"./images/\"\n",
    "image_files = [f for f in os.listdir(IMAGE_FOLDER) if f.lower().endswith(('jpg', 'jpeg', 'png'))]\n",
    "\n",
    "# 각 이미지의 설명을 Document에 저장\n",
    "docs = []\n",
    "for idx, img_name in enumerate(image_files):\n",
    "    img_path = os.path.join(IMAGE_FOLDER, img_name)\n",
    "    description = describe_image(img_path)\n",
    "    doc = Document(page_content=description, metadata={\"source\": {img_name}})\n",
    "    docs.append(doc)"
   ]
  },
  {
   "cell_type": "markdown",
   "id": "ec06246d",
   "metadata": {},
   "source": [
    "### Vector Store 생성"
   ]
  },
  {
   "cell_type": "markdown",
   "id": "62a6a97b",
   "metadata": {},
   "source": [
    "* Document를 텍스트 임베딩을 이용해 벡터로 만들고 DB에 저장함."
   ]
  },
  {
   "cell_type": "code",
   "execution_count": 4,
   "id": "b2f52796",
   "metadata": {},
   "outputs": [
    {
     "name": "stderr",
     "output_type": "stream",
     "text": [
      "C:\\Users\\IISLab\\AppData\\Local\\Temp\\ipykernel_33664\\3134017166.py:4: LangChainDeprecationWarning: The class `OllamaEmbeddings` was deprecated in LangChain 0.3.1 and will be removed in 1.0.0. An updated version of the class exists in the :class:`~langchain-ollama package and should be used instead. To use it run `pip install -U :class:`~langchain-ollama` and import as `from :class:`~langchain_ollama import OllamaEmbeddings``.\n",
      "  embedding = OllamaEmbeddings(model=\"daynice/kure-v1\")\n"
     ]
    }
   ],
   "source": [
    "from langchain_community.embeddings import OllamaEmbeddings\n",
    "\n",
    "# 텍스트 임베딩 생성기\n",
    "embedding = OllamaEmbeddings(model=\"daynice/kure-v1\")"
   ]
  },
  {
   "cell_type": "code",
   "execution_count": 5,
   "id": "93fa7a68",
   "metadata": {},
   "outputs": [],
   "source": [
    "from langchain_community.vectorstores import FAISS\n",
    "\n",
    "# 벡터 스토어 생성\n",
    "vectorstore = FAISS.from_documents(documents=docs, embedding=embedding)\n",
    "# 벡터 스토어 저장\n",
    "vectorstore.save_local(\"./Image_description\")\n",
    "# retriever 생성\n",
    "retriever = vectorstore.as_retriever()"
   ]
  },
  {
   "cell_type": "markdown",
   "id": "0d53b94a",
   "metadata": {},
   "source": [
    "### 프롬프트 초기화"
   ]
  },
  {
   "cell_type": "markdown",
   "id": "3354d968",
   "metadata": {},
   "source": [
    "##### QA용 프롬프트\n",
    "* 사용자의 질문(question)과 검색된 이미지 요약(context)를 입력으로 받음"
   ]
  },
  {
   "cell_type": "code",
   "execution_count": 6,
   "id": "38cad247",
   "metadata": {},
   "outputs": [],
   "source": [
    "from langchain_core.prompts import PromptTemplate\n",
    "\n",
    "# 이미지 설명 기반 QA를 위한 프롬프트 템플릿\n",
    "chat_prompt = PromptTemplate.from_template(\n",
    "\"\"\"당신은 이미지 설명(Image Description)에 기반한 질문-답변(Question-Answering)을 수행하는 AI 어시스턴트입니다. \n",
    "당신의 임무는 제공된 이미지에 대한 설명(context)을 바탕으로 사용자의 질문(question)에 답변하는 것입니다.\n",
    "\n",
    "아래의 이미지 설명(context)을 참고하여 질문(question)에 답하세요. \n",
    "만약 설명 안에 답이 없거나 답을 유추하기 어렵다면, `주어진 이미지 설명에서는 해당 질문에 대한 답을 찾을 수 없습니다` 라고 답하세요. \n",
    "\n",
    "#Question:\n",
    "{question}\n",
    "\n",
    "#Image Description (Context):\n",
    "{context}\n",
    "\n",
    "#Answer:\"\"\"\n",
    ")"
   ]
  },
  {
   "cell_type": "code",
   "execution_count": 7,
   "id": "1db2f9cc",
   "metadata": {},
   "outputs": [],
   "source": [
    "from langchain_core.output_parsers import StrOutputParser\n",
    "\n",
    "# 체인을 생성합니다.\n",
    "chat_chain = chat_prompt | llm | StrOutputParser()"
   ]
  },
  {
   "cell_type": "markdown",
   "id": "96312fe1",
   "metadata": {},
   "source": [
    "### DB 검색 및 질문과 관련된 이미지 요약"
   ]
  },
  {
   "cell_type": "markdown",
   "id": "515fa163",
   "metadata": {},
   "source": [
    "* 영어로 DB에서 유사한 Document를 검색하여 이미지 설명을 찾고, QA용 챗봇 체인에 입력하여 이미지 설명을 요약"
   ]
  },
  {
   "cell_type": "markdown",
   "id": "a3e3778e",
   "metadata": {},
   "source": [
    "##### 검색된 이미지들의 설명을 요약한 결과"
   ]
  },
  {
   "cell_type": "code",
   "execution_count": 8,
   "id": "d1d193d8",
   "metadata": {},
   "outputs": [
    {
     "name": "stdout",
     "output_type": "stream",
     "text": [
      "retrieved size: 4\n",
      "이미지 요약: 냉장고 앞에서 사람과 냉장고가 함께 있는 이미지를 보여줍니다. 냉장고는 다양한 기능을 제공하는 디지털 스크린을 가지고 있으며, 이는 현대적인 주방 기기의 특징입니다.\n"
     ]
    }
   ],
   "source": [
    "question = \"사람이 직접 냉장고를 사용하고 있는 모습이 포함된 이미지를 요약해주세요.\"\n",
    "# 벡터 DB 에서 참고할 문서 검색\n",
    "retrieved_docs = retriever.invoke(question)\n",
    "print(f\"retrieved size: {len(retrieved_docs)}\")\n",
    "combined_docs = \"\\n\\n\".join(doc.page_content for doc in retrieved_docs)\n",
    "# 검색된 문서를 첨부해서 PROMPT 생성\n",
    "formatted_prompt = {\"context\": combined_docs, \"question\": question}\n",
    "# 체인을 실행하고 결과를 stream 형태로 출력\n",
    "result = \"\"\n",
    "for chunk in chat_chain.stream(formatted_prompt):\n",
    "    print(chunk, end=\"\", flush=True)\n",
    "    result += chunk\n",
    "print()"
   ]
  },
  {
   "cell_type": "markdown",
   "id": "9276b53f",
   "metadata": {},
   "source": [
    "##### 검색된 이미지들의 파일명"
   ]
  },
  {
   "cell_type": "code",
   "execution_count": 9,
   "id": "f5854ed6-0708-4468-83ca-351de36ddb8c",
   "metadata": {},
   "outputs": [
    {
     "name": "stdout",
     "output_type": "stream",
     "text": [
      "{'refri7.png'}\n",
      "{'refri9.png'}\n",
      "{'refri4.png'}\n",
      "{'refri2.png'}\n"
     ]
    }
   ],
   "source": [
    "for doc in retrieved_docs:\n",
    "    print(doc.metadata['source'])"
   ]
  },
  {
   "cell_type": "markdown",
   "id": "08d417e4-40ff-42db-b62d-03c5b37ae869",
   "metadata": {},
   "source": [
    "ppt 제작 라이브러리 다운로드"
   ]
  },
  {
   "cell_type": "code",
   "execution_count": 10,
   "id": "7b83dea5-7039-47a9-bbbf-3fb4d564c4a0",
   "metadata": {},
   "outputs": [
    {
     "name": "stdout",
     "output_type": "stream",
     "text": [
      "Requirement already satisfied: python-pptx in c:\\users\\iislab\\anaconda3\\envs\\lg_llm\\lib\\site-packages (1.0.2)\n",
      "Requirement already satisfied: Pillow>=3.3.2 in c:\\users\\iislab\\anaconda3\\envs\\lg_llm\\lib\\site-packages (from python-pptx) (11.2.1)\n",
      "Requirement already satisfied: XlsxWriter>=0.5.7 in c:\\users\\iislab\\anaconda3\\envs\\lg_llm\\lib\\site-packages (from python-pptx) (3.2.5)\n",
      "Requirement already satisfied: lxml>=3.1.0 in c:\\users\\iislab\\anaconda3\\envs\\lg_llm\\lib\\site-packages (from python-pptx) (5.4.0)\n",
      "Requirement already satisfied: typing-extensions>=4.9.0 in c:\\users\\iislab\\anaconda3\\envs\\lg_llm\\lib\\site-packages (from python-pptx) (4.14.0)\n"
     ]
    },
    {
     "name": "stderr",
     "output_type": "stream",
     "text": [
      "\n",
      "[notice] A new release of pip is available: 23.3.2 -> 25.1.1\n",
      "[notice] To update, run: python.exe -m pip install --upgrade pip\n"
     ]
    }
   ],
   "source": [
    "!pip install python-pptx"
   ]
  },
  {
   "cell_type": "code",
   "execution_count": 20,
   "id": "5f4d69a9-09ad-4ddb-b16c-db6ccea2af74",
   "metadata": {},
   "outputs": [],
   "source": [
    "from pptx import Presentation\n",
    "from pptx.util import Inches\n",
    "from pptx.enum.text import PP_ALIGN\n",
    "import os\n",
    "\n",
    "def create_simple_ppt(retrieved_docs, result_text, output_filename):\n",
    "    \n",
    "    prs = Presentation()\n",
    "    \n",
    "    # 각 문서의 source(파일명)으로 이미지 찾아서 슬라이드 생성\n",
    "    for i, doc in enumerate(retrieved_docs, 1):\n",
    "        # 슬라이드 추가\n",
    "        slide_layout = prs.slide_layouts[6]  # 빈 슬라이드\n",
    "        slide = prs.slides.add_slide(slide_layout)\n",
    "        \n",
    "        # 파일명에서 이미지 경로 추출 (set 형태)\n",
    "        source_data = doc.metadata['source']\n",
    "        image_path = list(source_data)[0]  # set에서 첫 번째 값\n",
    "        \n",
    "        # 이미지 폴더 경로와 합치기\n",
    "        full_image_path = os.path.join(\"./images/\", image_path)\n",
    "        \n",
    "        # 이미지가 존재하면 추가\n",
    "        if os.path.exists(full_image_path):\n",
    "            # 슬라이드 크기 (표준 16:9)\n",
    "            slide_width = Inches(10)  # 슬라이드 너비\n",
    "            slide_height = Inches(7.5)  # 슬라이드 높이\n",
    "            \n",
    "            # 이미지 영역을 위한 공간 (하단에 텍스트 공간 확보)\n",
    "            max_width = Inches(9)   # 좌우 여백 0.5인치씩\n",
    "            max_height = Inches(5.5)  # 상하 여백 + 하단 텍스트 공간 확보\n",
    "            \n",
    "            # 이미지를 최대 크기에 맞춰 비율 유지하며 추가\n",
    "            left = Inches(0.5)  # 좌측 여백\n",
    "            top = Inches(0.5)   # 상단 여백\n",
    "            \n",
    "            # 이미지 추가 (자동으로 비율 유지하면서 최대 크기 제한)\n",
    "            pic = slide.shapes.add_picture(full_image_path, left, top, width=max_width)\n",
    "            \n",
    "            # 높이가 넘어가면 높이 기준으로 다시 조정\n",
    "            if pic.height > max_height:\n",
    "                # 높이 기준으로 비율 맞춰서 다시 설정\n",
    "                slide.shapes._spTree.remove(pic._element)  # 기존 이미지 제거\n",
    "                pic = slide.shapes.add_picture(full_image_path, left, top, height=max_height)\n",
    "                \n",
    "                # 가로가 넘어가면 중앙 정렬\n",
    "                if pic.width <= max_width:\n",
    "                    pic.left = int((slide_width - pic.width) / 2)\n",
    "            else:\n",
    "                # 가로 중앙 정렬\n",
    "                pic.left = int((slide_width - pic.width) / 2)\n",
    "            \n",
    "            # 이미지 파일명을 하단에 텍스트박스로 추가\n",
    "            textbox = slide.shapes.add_textbox(\n",
    "                left=Inches(0.5),\n",
    "                top=Inches(6.5),  # 슬라이드 하단\n",
    "                width=Inches(9),\n",
    "                height=Inches(0.8)\n",
    "            )\n",
    "            \n",
    "            text_frame = textbox.text_frame\n",
    "            text_frame.text = os.path.basename(image_path)  # 파일명만 추출\n",
    "            \n",
    "            # 텍스트 스타일 설정\n",
    "            paragraph = text_frame.paragraphs[0]\n",
    "            paragraph.alignment = PP_ALIGN.CENTER  # 중앙 정렬\n",
    "            font = paragraph.font\n",
    "            font.size = Inches(0.2)  # 폰트 크기\n",
    "            font.bold = True\n",
    "            \n",
    "            print(f\"이미지 추가됨: {full_image_path}\")\n",
    "        else:\n",
    "            # 이미지가 없는 경우 파일명만 표시\n",
    "            textbox = slide.shapes.add_textbox(\n",
    "                left=Inches(1),\n",
    "                top=Inches(3),\n",
    "                width=Inches(8),\n",
    "                height=Inches(1.5)\n",
    "            )\n",
    "            \n",
    "            text_frame = textbox.text_frame\n",
    "            text_frame.text = f\"이미지를 찾을 수 없습니다:\\n{image_path}\"\n",
    "            \n",
    "            # 텍스트 스타일 설정\n",
    "            paragraph = text_frame.paragraphs[0]\n",
    "            paragraph.alignment = PP_ALIGN.CENTER\n",
    "            font = paragraph.font\n",
    "            font.size = Inches(0.25)\n",
    "            \n",
    "            print(f\"이미지 파일을 찾을 수 없음: {full_image_path}\")\n",
    "    \n",
    "    # 마지막 슬라이드: 요약 페이지\n",
    "    slide_layout = prs.slide_layouts[1]  # 제목+내용 레이아웃\n",
    "    slide = prs.slides.add_slide(slide_layout)\n",
    "    \n",
    "    title = slide.shapes.title\n",
    "    content = slide.placeholders[1]\n",
    "    \n",
    "    title.text = \"이미지 설명 요약\"\n",
    "    content.text = result_text\n",
    "    \n",
    "    # 저장\n",
    "    prs.save(output_filename)\n",
    "    print(f\"PPT 저장 완료: {output_filename}\")"
   ]
  },
  {
   "cell_type": "code",
   "execution_count": 21,
   "id": "d5557ecc-4901-4731-88c2-cc5141b491a9",
   "metadata": {},
   "outputs": [
    {
     "name": "stdout",
     "output_type": "stream",
     "text": [
      "이미지 추가됨: ./images/refri7.png\n",
      "이미지 추가됨: ./images/refri9.png\n",
      "이미지 추가됨: ./images/refri4.png\n",
      "이미지 추가됨: ./images/refri2.png\n",
      "PPT 저장 완료: 이미지_요약.pptx\n"
     ]
    }
   ],
   "source": [
    "# PPT 생성\n",
    "create_simple_ppt(retrieved_docs, result, \"이미지_요약.pptx\")"
   ]
  },
  {
   "cell_type": "code",
   "execution_count": null,
   "id": "0125625e-2f39-4db2-adab-cce7450f9822",
   "metadata": {},
   "outputs": [],
   "source": []
  }
 ],
 "metadata": {
  "kernelspec": {
   "display_name": "Python 3 (ipykernel)",
   "language": "python",
   "name": "python3"
  },
  "language_info": {
   "codemirror_mode": {
    "name": "ipython",
    "version": 3
   },
   "file_extension": ".py",
   "mimetype": "text/x-python",
   "name": "python",
   "nbconvert_exporter": "python",
   "pygments_lexer": "ipython3",
   "version": "3.9.12"
  }
 },
 "nbformat": 4,
 "nbformat_minor": 5
}
